{
 "cells": [
  {
   "cell_type": "markdown",
   "metadata": {},
   "source": [
    "## Upgrade TensorFlow and Scikit-learn"
   ]
  },
  {
   "cell_type": "code",
   "execution_count": 1,
   "metadata": {
    "codeCollapsed": false,
    "collapsed": false,
    "hiddenCell": false
   },
   "outputs": [
    {
     "data": {
      "text/html": [
       "\n",
       "          <script src=\"/static/components/requirejs/require.js\"></script>\n",
       "          <script>\n",
       "            requirejs.config({\n",
       "              paths: {\n",
       "                base: '/static/base',\n",
       "              },\n",
       "            });\n",
       "          </script>\n",
       "          "
      ],
      "text/plain": [
       "<IPython.core.display.HTML object>"
      ]
     },
     "metadata": {},
     "output_type": "display_data"
    },
    {
     "name": "stdout",
     "output_type": "stream",
     "text": [
      "Collecting tensorflow==1.4.0\n",
      "  Downloading tensorflow-1.4.0-cp35-cp35m-manylinux1_x86_64.whl (40.7MB)\n",
      "\u001b[K    100% |████████████████████████████████| 40.7MB 34kB/s \n",
      "\u001b[?25hCollecting protobuf>=3.3.0 (from tensorflow==1.4.0)\n",
      "  Downloading protobuf-3.5.0.post1-cp35-cp35m-manylinux1_x86_64.whl (6.4MB)\n",
      "\u001b[K    100% |████████████████████████████████| 6.4MB 232kB/s \n",
      "\u001b[?25hCollecting numpy>=1.12.1 (from tensorflow==1.4.0)\n",
      "  Downloading numpy-1.13.3-cp35-cp35m-manylinux1_x86_64.whl (16.9MB)\n",
      "\u001b[K    100% |████████████████████████████████| 16.9MB 91kB/s \n",
      "\u001b[?25hCollecting enum34>=1.1.6 (from tensorflow==1.4.0)\n",
      "  Downloading enum34-1.1.6-py3-none-any.whl\n",
      "Requirement already up-to-date: wheel>=0.26 in /usr/local/lib/python3.5/dist-packages (from tensorflow==1.4.0)\n",
      "Collecting tensorflow-tensorboard<0.5.0,>=0.4.0rc1 (from tensorflow==1.4.0)\n",
      "  Downloading tensorflow_tensorboard-0.4.0rc3-py3-none-any.whl (1.7MB)\n",
      "\u001b[K    100% |████████████████████████████████| 1.7MB 903kB/s \n",
      "\u001b[?25hCollecting six>=1.10.0 (from tensorflow==1.4.0)\n",
      "  Using cached six-1.11.0-py2.py3-none-any.whl\n",
      "Collecting setuptools (from protobuf>=3.3.0->tensorflow==1.4.0)\n",
      "  Using cached setuptools-38.2.4-py2.py3-none-any.whl\n",
      "Requirement already up-to-date: bleach==1.5.0 in /usr/local/lib/python3.5/dist-packages (from tensorflow-tensorboard<0.5.0,>=0.4.0rc1->tensorflow==1.4.0)\n",
      "Requirement already up-to-date: html5lib==0.9999999 in /usr/local/lib/python3.5/dist-packages (from tensorflow-tensorboard<0.5.0,>=0.4.0rc1->tensorflow==1.4.0)\n",
      "Collecting werkzeug>=0.11.10 (from tensorflow-tensorboard<0.5.0,>=0.4.0rc1->tensorflow==1.4.0)\n",
      "  Using cached Werkzeug-0.13-py2.py3-none-any.whl\n",
      "Collecting markdown>=2.6.8 (from tensorflow-tensorboard<0.5.0,>=0.4.0rc1->tensorflow==1.4.0)\n",
      "  Using cached Markdown-2.6.10.zip\n",
      "Building wheels for collected packages: markdown\n",
      "  Running setup.py bdist_wheel for markdown ... \u001b[?25l-\b \b\\\b \bdone\n",
      "\u001b[?25h  Stored in directory: /root/.cache/pip/wheels/1e/5a/55/a80b200d12e234d575ad68c1528593d1ce488720b65b24e48c\n",
      "Successfully built markdown\n",
      "Installing collected packages: setuptools, six, protobuf, numpy, enum34, werkzeug, markdown, tensorflow-tensorboard, tensorflow\n",
      "  Found existing installation: setuptools 36.6.0\n",
      "    Uninstalling setuptools-36.6.0:\n",
      "      Successfully uninstalled setuptools-36.6.0\n",
      "  Found existing installation: six 1.10.0\n",
      "    Uninstalling six-1.10.0:\n",
      "      Successfully uninstalled six-1.10.0\n",
      "  Found existing installation: protobuf 3.4.0\n",
      "    Uninstalling protobuf-3.4.0:\n",
      "      Successfully uninstalled protobuf-3.4.0\n",
      "  Found existing installation: numpy 1.11.2\n",
      "    Uninstalling numpy-1.11.2:\n",
      "      Successfully uninstalled numpy-1.11.2\n",
      "  Found existing installation: Werkzeug 0.12.2\n",
      "    Uninstalling Werkzeug-0.12.2:\n",
      "      Successfully uninstalled Werkzeug-0.12.2\n",
      "  Found existing installation: Markdown 2.6.9\n",
      "    Uninstalling Markdown-2.6.9:\n",
      "      Successfully uninstalled Markdown-2.6.9\n",
      "  Found existing installation: tensorflow 1.2.1\n",
      "    Uninstalling tensorflow-1.2.1:\n",
      "      Successfully uninstalled tensorflow-1.2.1\n",
      "Successfully installed enum34-1.1.6 markdown-2.6.10 numpy-1.13.3 protobuf-3.5.0.post1 setuptools-38.2.4 six-1.11.0 tensorflow-1.4.0 tensorflow-tensorboard-0.4.0rc3 werkzeug-0.13\n",
      "Collecting scikit-learn\n",
      "  Downloading scikit_learn-0.19.1-cp35-cp35m-manylinux1_x86_64.whl (12.2MB)\n",
      "\u001b[K    100% |████████████████████████████████| 12.2MB 122kB/s \n",
      "\u001b[?25hInstalling collected packages: scikit-learn\n",
      "  Found existing installation: scikit-learn 0.18.2\n",
      "    Uninstalling scikit-learn-0.18.2:\n",
      "      Successfully uninstalled scikit-learn-0.18.2\n",
      "Successfully installed scikit-learn-0.19.1\n"
     ]
    }
   ],
   "source": [
    "# run following script for latest libs of tensorflow\n",
    "!pip3 install -U tensorflow==1.4.0\n",
    "!pip3 install -U scikit-learn --upgrade"
   ]
  },
  {
   "cell_type": "code",
   "execution_count": 2,
   "metadata": {
    "collapsed": false
   },
   "outputs": [
    {
     "data": {
      "text/html": [
       "\n",
       "          <script src=\"/static/components/requirejs/require.js\"></script>\n",
       "          <script>\n",
       "            requirejs.config({\n",
       "              paths: {\n",
       "                base: '/static/base',\n",
       "              },\n",
       "            });\n",
       "          </script>\n",
       "          "
      ],
      "text/plain": [
       "<IPython.core.display.HTML object>"
      ]
     },
     "metadata": {},
     "output_type": "display_data"
    },
    {
     "name": "stdout",
     "output_type": "stream",
     "text": [
      "tensorflow==1.4.0\n",
      "tensorflow-tensorboard==0.4.0rc3\n",
      "scikit-learn==0.19.1\n"
     ]
    }
   ],
   "source": [
    "# check the version of tensorflow and scikit-learn\n",
    "# tensorflow: 1.4.0\n",
    "# scikit-learn: 0.19.1\n",
    "!pip3 freeze | grep tensorflow\n",
    "!pip3 freeze | grep scikit-learn"
   ]
  },
  {
   "cell_type": "markdown",
   "metadata": {},
   "source": [
    "## Empty Contents in Dir"
   ]
  },
  {
   "cell_type": "code",
   "execution_count": 1,
   "metadata": {
    "collapsed": false
   },
   "outputs": [
    {
     "data": {
      "text/html": [
       "\n",
       "          <script src=\"/static/components/requirejs/require.js\"></script>\n",
       "          <script>\n",
       "            requirejs.config({\n",
       "              paths: {\n",
       "                base: '/static/base',\n",
       "              },\n",
       "            });\n",
       "          </script>\n",
       "          "
      ],
      "text/plain": [
       "<IPython.core.display.HTML object>"
      ]
     },
     "metadata": {},
     "output_type": "display_data"
    }
   ],
   "source": [
    "!rm -fr ./model/linear/*"
   ]
  }
 ],
 "metadata": {
  "kernelspec": {
   "display_name": "Python 3",
   "language": "python",
   "name": "python3"
  },
  "language_info": {
   "codemirror_mode": {
    "name": "ipython",
    "version": 3
   },
   "file_extension": ".py",
   "mimetype": "text/x-python",
   "name": "python",
   "nbconvert_exporter": "python",
   "pygments_lexer": "ipython3",
   "version": "3.5.2"
  }
 },
 "nbformat": 4,
 "nbformat_minor": 2
}
