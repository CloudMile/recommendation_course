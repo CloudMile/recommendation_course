{
 "cells": [
  {
   "cell_type": "code",
   "execution_count": 1,
   "metadata": {
    "collapsed": false
   },
   "outputs": [
    {
     "data": {
      "text/html": [
       "\n",
       "          <script src=\"/static/components/requirejs/require.js\"></script>\n",
       "          <script>\n",
       "            requirejs.config({\n",
       "              paths: {\n",
       "                base: '/static/base',\n",
       "              },\n",
       "            });\n",
       "          </script>\n",
       "          "
      ],
      "text/plain": [
       "<IPython.core.display.HTML object>"
      ]
     },
     "metadata": {},
     "output_type": "display_data"
    }
   ],
   "source": [
    "import os, sys, numpy as np, pandas as pd, tensorflow as tf, re, codecs, json, time\n",
    "import pickle, collections, random, math, numbers, scipy.sparse as sp, itertools, shutil\n",
    "\n",
    "def reload(mName):\n",
    "    import importlib\n",
    "    if mName in sys.modules:\n",
    "        del sys.modules[mName]\n",
    "    return importlib.import_module(mName)\n",
    "\n",
    "from collections import OrderedDict\n",
    "from sklearn.preprocessing import minmax_scale\n",
    "from scipy.sparse.linalg import svds\n",
    "from sklearn.preprocessing import LabelEncoder\n",
    "from matplotlib import pyplot as plt\n",
    "plt.style.use('ggplot')\n",
    "\n",
    "utils = reload('utils.utils')\n",
    "np.set_printoptions(precision=4, suppress=True, linewidth=100)\n",
    "randomSeed = 88\n",
    "np.random.seed(randomSeed)"
   ]
  },
  {
   "cell_type": "markdown",
   "metadata": {},
   "source": [
    "<br/>\n",
    "<br/>\n",
    "<br/>\n",
    "## Data Prepare"
   ]
  },
  {
   "cell_type": "code",
   "execution_count": 2,
   "metadata": {
    "collapsed": false
   },
   "outputs": [
    {
     "data": {
      "text/html": [
       "\n",
       "          <script src=\"/static/components/requirejs/require.js\"></script>\n",
       "          <script>\n",
       "            requirejs.config({\n",
       "              paths: {\n",
       "                base: '/static/base',\n",
       "              },\n",
       "            });\n",
       "          </script>\n",
       "          "
      ],
      "text/plain": [
       "<IPython.core.display.HTML object>"
      ]
     },
     "metadata": {},
     "output_type": "display_data"
    },
    {
     "name": "stdout",
     "output_type": "stream",
     "text": [
      "(100004, 4)\n"
     ]
    },
    {
     "data": {
      "text/html": [
       "<div>\n",
       "<table border=\"1\" class=\"dataframe\">\n",
       "  <thead>\n",
       "    <tr style=\"text-align: right;\">\n",
       "      <th></th>\n",
       "      <th>userId</th>\n",
       "      <th>movieId</th>\n",
       "      <th>rating</th>\n",
       "      <th>timestamp</th>\n",
       "    </tr>\n",
       "  </thead>\n",
       "  <tbody>\n",
       "    <tr>\n",
       "      <th>0</th>\n",
       "      <td>0</td>\n",
       "      <td>30</td>\n",
       "      <td>2.5</td>\n",
       "      <td>1260759144</td>\n",
       "    </tr>\n",
       "    <tr>\n",
       "      <th>1</th>\n",
       "      <td>0</td>\n",
       "      <td>833</td>\n",
       "      <td>3.0</td>\n",
       "      <td>1260759179</td>\n",
       "    </tr>\n",
       "    <tr>\n",
       "      <th>2</th>\n",
       "      <td>0</td>\n",
       "      <td>859</td>\n",
       "      <td>3.0</td>\n",
       "      <td>1260759182</td>\n",
       "    </tr>\n",
       "    <tr>\n",
       "      <th>3</th>\n",
       "      <td>0</td>\n",
       "      <td>906</td>\n",
       "      <td>2.0</td>\n",
       "      <td>1260759185</td>\n",
       "    </tr>\n",
       "    <tr>\n",
       "      <th>4</th>\n",
       "      <td>0</td>\n",
       "      <td>931</td>\n",
       "      <td>4.0</td>\n",
       "      <td>1260759205</td>\n",
       "    </tr>\n",
       "  </tbody>\n",
       "</table>\n",
       "</div>"
      ],
      "text/plain": [
       "   userId  movieId  rating   timestamp\n",
       "0       0       30     2.5  1260759144\n",
       "1       0      833     3.0  1260759179\n",
       "2       0      859     3.0  1260759182\n",
       "3       0      906     2.0  1260759185\n",
       "4       0      931     4.0  1260759205"
      ]
     },
     "execution_count": 2,
     "metadata": {},
     "output_type": "execute_result"
    }
   ],
   "source": [
    "ratings = pd.read_csv(\"./data/ml-latest-small/ratings.csv\")\n",
    "movies = pd.read_csv(\"./data/ml-latest-small/movies.csv\")\n",
    "tags = pd.read_csv(\"./data/ml-latest-small/tags.csv\")\n",
    "\n",
    "uidEnc, midEnc = LabelEncoder(), LabelEncoder()\n",
    "# encode user id and movie id to real value\n",
    "midEnc.fit(movies.movieId)\n",
    "uidEnc.fit(ratings.userId)\n",
    "\n",
    "ratings[\"userId\"] = uidEnc.transform(ratings.userId)\n",
    "ratings[\"movieId\"] = midEnc.transform(ratings.movieId)\n",
    "\n",
    "movies[\"movieId\"] = midEnc.transform(movies.movieId)\n",
    "\n",
    "tags[\"userId\"] = uidEnc.transform(tags.userId)\n",
    "tags[\"movieId\"] = midEnc.transform(tags.movieId)\n",
    "\n",
    "midMap = pd.Series(dict(zip(movies.movieId, movies.title)))\n",
    "\n",
    "nUsers, nMovies = len(uidEnc.classes_), len(midEnc.classes_)\n",
    "print(ratings.shape)\n",
    "ratings.head()"
   ]
  },
  {
   "cell_type": "code",
   "execution_count": 3,
   "metadata": {
    "collapsed": false
   },
   "outputs": [
    {
     "data": {
      "text/html": [
       "\n",
       "          <script src=\"/static/components/requirejs/require.js\"></script>\n",
       "          <script>\n",
       "            requirejs.config({\n",
       "              paths: {\n",
       "                base: '/static/base',\n",
       "              },\n",
       "            });\n",
       "          </script>\n",
       "          "
      ],
      "text/plain": [
       "<IPython.core.display.HTML object>"
      ]
     },
     "metadata": {},
     "output_type": "display_data"
    },
    {
     "data": {
      "text/html": [
       "<div>\n",
       "<table border=\"1\" class=\"dataframe\">\n",
       "  <thead>\n",
       "    <tr style=\"text-align: right;\">\n",
       "      <th></th>\n",
       "      <th>movieId</th>\n",
       "      <th>title</th>\n",
       "      <th>genres</th>\n",
       "    </tr>\n",
       "  </thead>\n",
       "  <tbody>\n",
       "    <tr>\n",
       "      <th>0</th>\n",
       "      <td>0</td>\n",
       "      <td>Toy Story (1995)</td>\n",
       "      <td>Adventure|Animation|Children|Comedy|Fantasy</td>\n",
       "    </tr>\n",
       "    <tr>\n",
       "      <th>1</th>\n",
       "      <td>1</td>\n",
       "      <td>Jumanji (1995)</td>\n",
       "      <td>Adventure|Children|Fantasy</td>\n",
       "    </tr>\n",
       "    <tr>\n",
       "      <th>2</th>\n",
       "      <td>2</td>\n",
       "      <td>Grumpier Old Men (1995)</td>\n",
       "      <td>Comedy|Romance</td>\n",
       "    </tr>\n",
       "    <tr>\n",
       "      <th>3</th>\n",
       "      <td>3</td>\n",
       "      <td>Waiting to Exhale (1995)</td>\n",
       "      <td>Comedy|Drama|Romance</td>\n",
       "    </tr>\n",
       "    <tr>\n",
       "      <th>4</th>\n",
       "      <td>4</td>\n",
       "      <td>Father of the Bride Part II (1995)</td>\n",
       "      <td>Comedy</td>\n",
       "    </tr>\n",
       "  </tbody>\n",
       "</table>\n",
       "</div>"
      ],
      "text/plain": [
       "   movieId                               title  \\\n",
       "0        0                    Toy Story (1995)   \n",
       "1        1                      Jumanji (1995)   \n",
       "2        2             Grumpier Old Men (1995)   \n",
       "3        3            Waiting to Exhale (1995)   \n",
       "4        4  Father of the Bride Part II (1995)   \n",
       "\n",
       "                                        genres  \n",
       "0  Adventure|Animation|Children|Comedy|Fantasy  \n",
       "1                   Adventure|Children|Fantasy  \n",
       "2                               Comedy|Romance  \n",
       "3                         Comedy|Drama|Romance  \n",
       "4                                       Comedy  "
      ]
     },
     "execution_count": 3,
     "metadata": {},
     "output_type": "execute_result"
    }
   ],
   "source": [
    "# movies profile\n",
    "movies.head()"
   ]
  },
  {
   "cell_type": "code",
   "execution_count": 4,
   "metadata": {
    "collapsed": false
   },
   "outputs": [
    {
     "data": {
      "text/html": [
       "\n",
       "          <script src=\"/static/components/requirejs/require.js\"></script>\n",
       "          <script>\n",
       "            requirejs.config({\n",
       "              paths: {\n",
       "                base: '/static/base',\n",
       "              },\n",
       "            });\n",
       "          </script>\n",
       "          "
      ],
      "text/plain": [
       "<IPython.core.display.HTML object>"
      ]
     },
     "metadata": {},
     "output_type": "display_data"
    },
    {
     "data": {
      "text/html": [
       "<div>\n",
       "<table border=\"1\" class=\"dataframe\">\n",
       "  <thead>\n",
       "    <tr style=\"text-align: right;\">\n",
       "      <th></th>\n",
       "      <th>userId</th>\n",
       "      <th>movieId</th>\n",
       "      <th>tag</th>\n",
       "      <th>timestamp</th>\n",
       "    </tr>\n",
       "  </thead>\n",
       "  <tbody>\n",
       "    <tr>\n",
       "      <th>0</th>\n",
       "      <td>14</td>\n",
       "      <td>304</td>\n",
       "      <td>sandra 'boring' bullock</td>\n",
       "      <td>1138537770</td>\n",
       "    </tr>\n",
       "    <tr>\n",
       "      <th>1</th>\n",
       "      <td>14</td>\n",
       "      <td>1517</td>\n",
       "      <td>dentist</td>\n",
       "      <td>1193435061</td>\n",
       "    </tr>\n",
       "    <tr>\n",
       "      <th>2</th>\n",
       "      <td>14</td>\n",
       "      <td>5166</td>\n",
       "      <td>Cambodia</td>\n",
       "      <td>1170560997</td>\n",
       "    </tr>\n",
       "    <tr>\n",
       "      <th>3</th>\n",
       "      <td>14</td>\n",
       "      <td>6118</td>\n",
       "      <td>Russian</td>\n",
       "      <td>1170626366</td>\n",
       "    </tr>\n",
       "    <tr>\n",
       "      <th>4</th>\n",
       "      <td>14</td>\n",
       "      <td>6178</td>\n",
       "      <td>forgettable</td>\n",
       "      <td>1141391765</td>\n",
       "    </tr>\n",
       "  </tbody>\n",
       "</table>\n",
       "</div>"
      ],
      "text/plain": [
       "   userId  movieId                      tag   timestamp\n",
       "0      14      304  sandra 'boring' bullock  1138537770\n",
       "1      14     1517                  dentist  1193435061\n",
       "2      14     5166                 Cambodia  1170560997\n",
       "3      14     6118                  Russian  1170626366\n",
       "4      14     6178              forgettable  1141391765"
      ]
     },
     "execution_count": 4,
     "metadata": {},
     "output_type": "execute_result"
    }
   ],
   "source": [
    "# tags profile\n",
    "tags.head()"
   ]
  },
  {
   "cell_type": "markdown",
   "metadata": {},
   "source": [
    "<br/>\n",
    "<br/>\n",
    "<br/>\n",
    "### Split Train and Test Data"
   ]
  },
  {
   "cell_type": "code",
   "execution_count": 5,
   "metadata": {
    "collapsed": false
   },
   "outputs": [
    {
     "data": {
      "text/html": [
       "\n",
       "          <script src=\"/static/components/requirejs/require.js\"></script>\n",
       "          <script>\n",
       "            requirejs.config({\n",
       "              paths: {\n",
       "                base: '/static/base',\n",
       "              },\n",
       "            });\n",
       "          </script>\n",
       "          "
      ],
      "text/plain": [
       "<IPython.core.display.HTML object>"
      ]
     },
     "metadata": {},
     "output_type": "display_data"
    }
   ],
   "source": [
    "# # 已經產生出檔案的不用跑這一段\n",
    "# tr, te = utils.split_ratings(ratings, testRatio=0.3)\n",
    "# tr.to_csv(\"./data/ml-latest-small/movielens.tr.csv\", index=False)\n",
    "# te.to_csv(\"./data/ml-latest-small/movielens.te.csv\", index=False)\n",
    "# utils.dumpPickle(\"./data/ml-latest-small/state.h\", \n",
    "#         {\"uidEnc\": uidEnc, \"midEnc\": midEnc, \"midMap\": midMap, \"nUsers\": nUsers, \"nMovies\":nMovies})"
   ]
  },
  {
   "cell_type": "code",
   "execution_count": 6,
   "metadata": {
    "collapsed": false
   },
   "outputs": [
    {
     "data": {
      "text/html": [
       "\n",
       "          <script src=\"/static/components/requirejs/require.js\"></script>\n",
       "          <script>\n",
       "            requirejs.config({\n",
       "              paths: {\n",
       "                base: '/static/base',\n",
       "              },\n",
       "            });\n",
       "          </script>\n",
       "          "
      ],
      "text/plain": [
       "<IPython.core.display.HTML object>"
      ]
     },
     "metadata": {},
     "output_type": "display_data"
    },
    {
     "name": "stdout",
     "output_type": "stream",
     "text": [
      "train interaction matrix shape:  (671, 9125) test interaction matrix shape:  (671, 9125)\n",
      "train.shape:  (69399, 4) test.shape:  (30605, 4)\n",
      "\n",
      "   userId  movieId  rating   timestamp\n",
      "0       0      931     4.0  1260759205\n",
      "1       0     1515     4.0  1260759191\n",
      "2       0       30     2.5  1260759144\n",
      "3       0      833     3.0  1260759179\n",
      "4       0      859     3.0  1260759182\n",
      "\n",
      "   userId  movieId  rating   timestamp\n",
      "0       0     1665     4.0  1260759139\n",
      "1       0     1708     3.0  1260759194\n",
      "2       0     1743     2.0  1260759198\n",
      "3       0     1815     2.0  1260759108\n",
      "4       0     1962     2.5  1260759113\n"
     ]
    }
   ],
   "source": [
    "tr = pd.read_csv(\"./data/ml-latest-small/movielens.tr.csv\")\n",
    "te = pd.read_csv(\"./data/ml-latest-small/movielens.te.csv\")\n",
    "\n",
    "# state = utils.loadPickle(\"./data/ml-latest-small/state.h\")\n",
    "# uidEnc, midEnc, midMap, nUsers, nMovies = \\\n",
    "#     (state[\"uidEnc\"], state[\"midEnc\"], state[\"midMap\"], state[\"nUsers\"], state[\"nMovies\"])\n",
    "\n",
    "# train data rating matrix\n",
    "trRatingMat = np.zeros((nUsers, nMovies))\n",
    "# test data rating matrix\n",
    "teRatingMat = np.zeros((nUsers, nMovies))\n",
    "for idx, r in tr.iterrows():\n",
    "    trRatingMat[int(r.userId), int(r.movieId)] = r.rating\n",
    "for idx, r in te.iterrows():\n",
    "    teRatingMat[int(r.userId), int(r.movieId)] = r.rating\n",
    "\n",
    "print(\"train interaction matrix shape: \", trRatingMat.shape, \"test interaction matrix shape: \", teRatingMat.shape)\n",
    "print(\"train.shape: \", tr.shape, \"test.shape: \", te.shape)\n",
    "print()\n",
    "print(tr.head())\n",
    "print()\n",
    "print(te.head())"
   ]
  },
  {
   "cell_type": "markdown",
   "metadata": {},
   "source": [
    "### 以leave one out方式產生 train data, test data\n",
    "1. 每一筆資料有兩部分: [user query] + [item id]\n",
    "2. 每一筆user query 包含所有user movie history, 除了當前的rating movie (candidate movie)\n",
    "3. test data的user query來自於train data"
   ]
  },
  {
   "cell_type": "code",
   "execution_count": 7,
   "metadata": {
    "collapsed": false
   },
   "outputs": [
    {
     "data": {
      "text/html": [
       "\n",
       "          <script src=\"/static/components/requirejs/require.js\"></script>\n",
       "          <script>\n",
       "            requirejs.config({\n",
       "              paths: {\n",
       "                base: '/static/base',\n",
       "              },\n",
       "            });\n",
       "          </script>\n",
       "          "
      ],
      "text/plain": [
       "<IPython.core.display.HTML object>"
      ]
     },
     "metadata": {},
     "output_type": "display_data"
    },
    {
     "data": {
      "text/html": [
       "<div>\n",
       "<table border=\"1\" class=\"dataframe\">\n",
       "  <thead>\n",
       "    <tr style=\"text-align: right;\">\n",
       "      <th></th>\n",
       "      <th>user_id</th>\n",
       "      <th>query_movie_ids</th>\n",
       "      <th>candidate_movie_id</th>\n",
       "      <th>rating</th>\n",
       "    </tr>\n",
       "  </thead>\n",
       "  <tbody>\n",
       "    <tr>\n",
       "      <th>0</th>\n",
       "      <td>0</td>\n",
       "      <td>[1515, 1083, 833, 859, 30, 1111, 906, 1017, 10...</td>\n",
       "      <td>931</td>\n",
       "      <td>4.0</td>\n",
       "    </tr>\n",
       "    <tr>\n",
       "      <th>1</th>\n",
       "      <td>0</td>\n",
       "      <td>[931, 1083, 833, 859, 30, 1111, 906, 1017, 104...</td>\n",
       "      <td>1515</td>\n",
       "      <td>4.0</td>\n",
       "    </tr>\n",
       "    <tr>\n",
       "      <th>2</th>\n",
       "      <td>0</td>\n",
       "      <td>[931, 1515, 833, 859, 30, 1111, 906, 1017, 104...</td>\n",
       "      <td>1083</td>\n",
       "      <td>3.5</td>\n",
       "    </tr>\n",
       "    <tr>\n",
       "      <th>3</th>\n",
       "      <td>0</td>\n",
       "      <td>[931, 1515, 1083, 859, 30, 1111, 906, 1017, 10...</td>\n",
       "      <td>833</td>\n",
       "      <td>3.0</td>\n",
       "    </tr>\n",
       "    <tr>\n",
       "      <th>4</th>\n",
       "      <td>0</td>\n",
       "      <td>[931, 1515, 1083, 833, 30, 1111, 906, 1017, 10...</td>\n",
       "      <td>859</td>\n",
       "      <td>3.0</td>\n",
       "    </tr>\n",
       "  </tbody>\n",
       "</table>\n",
       "</div>"
      ],
      "text/plain": [
       "   user_id                                    query_movie_ids  \\\n",
       "0        0  [1515, 1083, 833, 859, 30, 1111, 906, 1017, 10...   \n",
       "1        0  [931, 1083, 833, 859, 30, 1111, 906, 1017, 104...   \n",
       "2        0  [931, 1515, 833, 859, 30, 1111, 906, 1017, 104...   \n",
       "3        0  [931, 1515, 1083, 859, 30, 1111, 906, 1017, 10...   \n",
       "4        0  [931, 1515, 1083, 833, 30, 1111, 906, 1017, 10...   \n",
       "\n",
       "   candidate_movie_id  rating  \n",
       "0                 931     4.0  \n",
       "1                1515     4.0  \n",
       "2                1083     3.5  \n",
       "3                 833     3.0  \n",
       "4                 859     3.0  "
      ]
     },
     "execution_count": 7,
     "metadata": {},
     "output_type": "execute_result"
    }
   ],
   "source": [
    "def preprocess(data, train_hist=None, is_train=True):\n",
    "    queue = []\n",
    "    for u, df in data.groupby(\"userId\"):\n",
    "        df = df.sort_values(\"rating\", ascending=False)\n",
    "        if not is_train:\n",
    "            user_movies_hist = train_hist.query(\"userId == {}\".format(u)).movieId\n",
    "        for i, (_, r) in enumerate(df.iterrows()):\n",
    "            if is_train:\n",
    "                queue.append([int(r.userId), df.movieId[:i].tolist() + df.movieId[i + 1:].tolist(), int(r.movieId), r.rating])\n",
    "            else:\n",
    "                all_hist = set(user_movies_hist.tolist() + df.movieId[:i].tolist())\n",
    "                queue.append([int(r.userId), list(all_hist - set([int(r.movieId)])), int(r.movieId), r.rating])\n",
    "    return pd.DataFrame(queue, columns=[\"user_id\", \"query_movie_ids\", \"candidate_movie_id\", \"rating\"])\n",
    "\n",
    "trProcessed = preprocess(tr)\n",
    "teProcessed = preprocess(te, tr, is_train=False)\n",
    "trProcessed.head()"
   ]
  },
  {
   "cell_type": "code",
   "execution_count": 8,
   "metadata": {
    "collapsed": false
   },
   "outputs": [
    {
     "data": {
      "text/html": [
       "\n",
       "          <script src=\"/static/components/requirejs/require.js\"></script>\n",
       "          <script>\n",
       "            requirejs.config({\n",
       "              paths: {\n",
       "                base: '/static/base',\n",
       "              },\n",
       "            });\n",
       "          </script>\n",
       "          "
      ],
      "text/plain": [
       "<IPython.core.display.HTML object>"
      ]
     },
     "metadata": {},
     "output_type": "display_data"
    },
    {
     "data": {
      "text/html": [
       "<div>\n",
       "<table border=\"1\" class=\"dataframe\">\n",
       "  <thead>\n",
       "    <tr style=\"text-align: right;\">\n",
       "      <th></th>\n",
       "      <th>user_id</th>\n",
       "      <th>query_movie_ids</th>\n",
       "      <th>candidate_movie_id</th>\n",
       "      <th>rating</th>\n",
       "    </tr>\n",
       "  </thead>\n",
       "  <tbody>\n",
       "    <tr>\n",
       "      <th>0</th>\n",
       "      <td>0</td>\n",
       "      <td>[833, 931, 1083, 906, 1515, 1041, 1140, 1111, ...</td>\n",
       "      <td>1665</td>\n",
       "      <td>4.0</td>\n",
       "    </tr>\n",
       "    <tr>\n",
       "      <th>1</th>\n",
       "      <td>0</td>\n",
       "      <td>[833, 1665, 931, 1083, 906, 1515, 1041, 1140, ...</td>\n",
       "      <td>1708</td>\n",
       "      <td>3.0</td>\n",
       "    </tr>\n",
       "    <tr>\n",
       "      <th>2</th>\n",
       "      <td>0</td>\n",
       "      <td>[833, 1665, 931, 1083, 906, 1515, 1708, 1041, ...</td>\n",
       "      <td>2925</td>\n",
       "      <td>3.0</td>\n",
       "    </tr>\n",
       "    <tr>\n",
       "      <th>3</th>\n",
       "      <td>0</td>\n",
       "      <td>[833, 1665, 906, 1041, 1111, 1047, 859, 30, 93...</td>\n",
       "      <td>1962</td>\n",
       "      <td>2.5</td>\n",
       "    </tr>\n",
       "    <tr>\n",
       "      <th>4</th>\n",
       "      <td>0</td>\n",
       "      <td>[833, 1665, 906, 1041, 1111, 1047, 859, 30, 93...</td>\n",
       "      <td>1743</td>\n",
       "      <td>2.0</td>\n",
       "    </tr>\n",
       "  </tbody>\n",
       "</table>\n",
       "</div>"
      ],
      "text/plain": [
       "   user_id                                    query_movie_ids  \\\n",
       "0        0  [833, 931, 1083, 906, 1515, 1041, 1140, 1111, ...   \n",
       "1        0  [833, 1665, 931, 1083, 906, 1515, 1041, 1140, ...   \n",
       "2        0  [833, 1665, 931, 1083, 906, 1515, 1708, 1041, ...   \n",
       "3        0  [833, 1665, 906, 1041, 1111, 1047, 859, 30, 93...   \n",
       "4        0  [833, 1665, 906, 1041, 1111, 1047, 859, 30, 93...   \n",
       "\n",
       "   candidate_movie_id  rating  \n",
       "0                1665     4.0  \n",
       "1                1708     3.0  \n",
       "2                2925     3.0  \n",
       "3                1962     2.5  \n",
       "4                1743     2.0  "
      ]
     },
     "execution_count": 8,
     "metadata": {},
     "output_type": "execute_result"
    }
   ],
   "source": [
    "teProcessed.head()"
   ]
  },
  {
   "cell_type": "markdown",
   "metadata": {},
   "source": [
    "### Data Function\n",
    "1. 由於tensorflow placeholder不支援變動長度的columns, 需透過padding zero(補零)帶入\n",
    "2. 每個變動長度的column, 需要再給lens描述每一筆資料的長度, ex: query_movie_ids, query_movie_ids_len"
   ]
  },
  {
   "cell_type": "code",
   "execution_count": 9,
   "metadata": {
    "collapsed": false,
    "scrolled": true
   },
   "outputs": [
    {
     "data": {
      "text/html": [
       "\n",
       "          <script src=\"/static/components/requirejs/require.js\"></script>\n",
       "          <script>\n",
       "            requirejs.config({\n",
       "              paths: {\n",
       "                base: '/static/base',\n",
       "              },\n",
       "            });\n",
       "          </script>\n",
       "          "
      ],
      "text/plain": [
       "<IPython.core.display.HTML object>"
      ]
     },
     "metadata": {},
     "output_type": "display_data"
    },
    {
     "data": {
      "text/html": [
       "<div>\n",
       "<table border=\"1\" class=\"dataframe\">\n",
       "  <thead>\n",
       "    <tr style=\"text-align: right;\">\n",
       "      <th></th>\n",
       "      <th>user_id</th>\n",
       "      <th>query_movie_ids</th>\n",
       "      <th>query_movie_ids_len</th>\n",
       "      <th>candidate_movie_id</th>\n",
       "      <th>rating</th>\n",
       "    </tr>\n",
       "  </thead>\n",
       "  <tbody>\n",
       "    <tr>\n",
       "      <th>0</th>\n",
       "      <td>47</td>\n",
       "      <td>[263, 2860, 3856, 6034, 2409, 2374, 7128, 5339...</td>\n",
       "      <td>357</td>\n",
       "      <td>1393</td>\n",
       "      <td>4.5</td>\n",
       "    </tr>\n",
       "    <tr>\n",
       "      <th>1</th>\n",
       "      <td>175</td>\n",
       "      <td>[966, 5026, 4395, 6042, 3871, 6521, 5020, 953,...</td>\n",
       "      <td>177</td>\n",
       "      <td>4002</td>\n",
       "      <td>3.0</td>\n",
       "    </tr>\n",
       "    <tr>\n",
       "      <th>2</th>\n",
       "      <td>261</td>\n",
       "      <td>[45, 1104, 154, 4514, 4171, 3801, 3727, 3644, ...</td>\n",
       "      <td>471</td>\n",
       "      <td>3089</td>\n",
       "      <td>2.0</td>\n",
       "    </tr>\n",
       "  </tbody>\n",
       "</table>\n",
       "</div>"
      ],
      "text/plain": [
       "   user_id                                    query_movie_ids  \\\n",
       "0       47  [263, 2860, 3856, 6034, 2409, 2374, 7128, 5339...   \n",
       "1      175  [966, 5026, 4395, 6042, 3871, 6521, 5020, 953,...   \n",
       "2      261  [45, 1104, 154, 4514, 4171, 3801, 3727, 3644, ...   \n",
       "\n",
       "   query_movie_ids_len  candidate_movie_id  rating  \n",
       "0                  357                1393     4.5  \n",
       "1                  177                4002     3.0  \n",
       "2                  471                3089     2.0  "
      ]
     },
     "execution_count": 9,
     "metadata": {},
     "output_type": "execute_result"
    }
   ],
   "source": [
    "def do_multi(df, multi_cols):\n",
    "    \"\"\"對於multivalent的欄位, 需要增加一個column去描述該欄位的長度\"\"\"\n",
    "    pad = tf.keras.preprocessing.sequence.pad_sequences\n",
    "    ret = OrderedDict()\n",
    "    for colname, col in df.iteritems():\n",
    "        if colname in multi_cols:\n",
    "            lens = col.map(len)\n",
    "            ret[colname] = list(pad(col, padding=\"post\", maxlen=lens.max()))\n",
    "            ret[colname + \"_len\"] = lens.values\n",
    "        else:\n",
    "            ret[colname] = col.values\n",
    "    return ret\n",
    "\n",
    "def dataFn(data, n_batch=128, shuffle=False):\n",
    "    pad = tf.keras.preprocessing.sequence.pad_sequences\n",
    "    def fn():\n",
    "        dataInner = data.copy()\n",
    "        indices = utils.get_minibatches_idx(len(dataInner), n_batch, shuffle=shuffle)\n",
    "        for ind in indices:\n",
    "            yield do_multi(dataInner.iloc[ind], [\"query_movie_ids\"])\n",
    "    return fn\n",
    "\n",
    "for i, e in enumerate(dataFn(trProcessed, n_batch=3, shuffle=True)(), 1):\n",
    "    break\n",
    "pd.DataFrame(e)"
   ]
  },
  {
   "cell_type": "code",
   "execution_count": 10,
   "metadata": {
    "collapsed": false
   },
   "outputs": [
    {
     "data": {
      "text/html": [
       "\n",
       "          <script src=\"/static/components/requirejs/require.js\"></script>\n",
       "          <script>\n",
       "            requirejs.config({\n",
       "              paths: {\n",
       "                base: '/static/base',\n",
       "              },\n",
       "            });\n",
       "          </script>\n",
       "          "
      ],
      "text/plain": [
       "<IPython.core.display.HTML object>"
      ]
     },
     "metadata": {},
     "output_type": "display_data"
    }
   ],
   "source": [
    "class ModelMFWithHistory(object):\n",
    "    def __init__(self, n_items, dim=32, learning_rate=0.01, reg=0.05, modelDir=\"./model/model_mf_with_history\"):\n",
    "        \"\"\"初始化 Tensorflow Graph\"\"\"\n",
    "        self.n_items = n_items\n",
    "        graph = tf.Graph()\n",
    "        with graph.as_default():\n",
    "            with tf.variable_scope(\"inputs\"):\n",
    "                self.isTrain = tf.placeholder(tf.bool, None)\n",
    "                # user data\n",
    "                self.query_movie_ids = tf.placeholder(tf.int32, [None, None])\n",
    "                self.query_movie_ids_len = tf.placeholder(tf.int32, [None])\n",
    "                # item data\n",
    "                self.candidate_movie_id = tf.placeholder(tf.int32, [None])\n",
    "                # labels\n",
    "                self.rating = tf.placeholder(tf.float32, [None])\n",
    "\n",
    "            init_fn = tf.glorot_normal_initializer()\n",
    "            emb_init_fn = tf.glorot_uniform_initializer()\n",
    "            self.b_global = tf.Variable(emb_init_fn(shape=[]), name=\"b_global\")\n",
    "            with tf.variable_scope(\"embedding\"):\n",
    "                # embedding dictionary\n",
    "                self.w_query_movie_ids = tf.Variable(emb_init_fn(shape=[self.n_items, dim]), name=\"w_query_movie_ids\")\n",
    "                self.b_query_movie_ids = tf.Variable(emb_init_fn(shape=[dim]), name=\"b_query_movie_ids\")\n",
    "                self.w_candidate_movie_id = tf.Variable(init_fn(shape=[self.n_items, dim]), name=\"w_candidate_movie_id\")\n",
    "                self.b_candidate_movie_id = tf.Variable(init_fn(shape=[dim]), name=\"b_candidate_movie_id\")\n",
    "                \n",
    "                self.query_emb = tf.nn.embedding_lookup(self.w_query_movie_ids, self.query_movie_ids)\n",
    "                self.candidate_emb = tf.nn.embedding_lookup(self.w_candidate_movie_id, self.candidate_movie_id)\n",
    "                self.candidate_bias = tf.matmul(self.candidate_emb, self.b_candidate_movie_id[:, tf.newaxis])\n",
    "\n",
    "            with tf.variable_scope(\"computation\"):\n",
    "                # weighted avg of query embedding\n",
    "                query_emb_mask = tf.sequence_mask(self.query_movie_ids_len)\n",
    "                weighted = tf.nn.l2_normalize(tf.to_float(query_emb_mask), 1)[:, :, tf.newaxis]\n",
    "                self.query_emb = tf.reduce_sum(self.query_emb * weighted, 1)\n",
    "                self.query_bias = tf.matmul(self.query_emb, self.b_query_movie_ids[:, tf.newaxis])\n",
    "                \n",
    "                infer = tf.reduce_sum(self.query_emb * self.candidate_emb, 1, keep_dims=True)\n",
    "                infer = tf.add(infer, self.b_global)\n",
    "                infer = tf.add(infer, self.query_bias)\n",
    "                self.infer = tf.add(infer, self.candidate_bias, name=\"infer\")\n",
    "                # one query for all items\n",
    "                self.pred = tf.matmul(self.query_emb, tf.transpose(self.w_candidate_movie_id)) + \\\n",
    "                            tf.reshape(tf.matmul(self.w_candidate_movie_id, self.b_candidate_movie_id[:, tf.newaxis]), (1, -1)) + \\\n",
    "                            self.query_bias + \\\n",
    "                            self.b_global\n",
    "\n",
    "            with tf.variable_scope(\"loss\"):\n",
    "                self.regularizer = reg * tf.add(tf.nn.l2_loss(self.query_emb), tf.nn.l2_loss(self.candidate_emb))\n",
    "                # l2_loss: Computes half the L2 norm of a tensor without the sqrt => sum(t ** 2) / 2\n",
    "                # self.loss = tf.nn.l2_loss(self.infer - self.rating[:, tf.newaxis]) + self.regularizer\n",
    "                self.loss = tf.losses.mean_squared_error(labels=self.rating[:, tf.newaxis], predictions=self.infer) + self.regularizer\n",
    "\n",
    "                # for eval\n",
    "                self.rmse_loss = tf.sqrt(tf.losses.mean_squared_error(labels=self.rating[:, tf.newaxis], predictions=self.infer))\n",
    "                self.mae_loss = tf.reduce_mean(tf.abs(self.infer - self.rating[:, tf.newaxis]))\n",
    "                pass\n",
    "\n",
    "            with tf.variable_scope(\"train\"):\n",
    "                # self.train_op = tf.train.AdagradOptimizer(learning_rate).minimize(self.loss)\n",
    "                self.train_op = tf.train.GradientDescentOptimizer(learning_rate).minimize(self.loss)\n",
    "                pass\n",
    "\n",
    "            self.saver = tf.train.Saver(tf.global_variables())\n",
    "            self.graph = graph\n",
    "            self.modelDir = modelDir\n",
    "\n",
    "    def resetModel(self, modelDir):\n",
    "        \"\"\"刪除model dir\"\"\"\n",
    "        shutil.rmtree(path=modelDir, ignore_errors=True)\n",
    "        os.makedirs(modelDir)\n",
    "\n",
    "    def feed_dict(self, data, mode=\"train\"):\n",
    "        ret = {\n",
    "            self.query_movie_ids: data[\"query_movie_ids\"],\n",
    "            self.query_movie_ids_len: data[\"query_movie_ids_len\"],\n",
    "            self.candidate_movie_id: data[\"candidate_movie_id\"]\n",
    "        }\n",
    "        ret[self.isTrain] = False\n",
    "        if mode != \"infer\":\n",
    "            ret[self.rating] = data[\"rating\"]\n",
    "            if mode == \"train\":\n",
    "                ret[self.isTrain] = True\n",
    "            elif mode == \"eval\":\n",
    "                pass\n",
    "        return ret\n",
    "\n",
    "    def fit(self, sess, trainGen, testGen, reset=False, nEpoch=50):\n",
    "        \"\"\"model training\"\"\"\n",
    "        sess.run(tf.global_variables_initializer())\n",
    "        if reset:\n",
    "            print(\"reset model: clean model dir: {} ...\".format(self.modelDir))\n",
    "            self.resetModel(self.modelDir)\n",
    "        self.ckpt(sess, self.modelDir)\n",
    "\n",
    "        start = time.time()\n",
    "        print(\"%s\\t%s\\t%s\\t%s\" % (\"Epoch\", \"Train Error\", \"Val Error\", \"Elapsed Time\"))\n",
    "        minLoss = 1e7\n",
    "        for ep in range(1, nEpoch + 1):\n",
    "            tr_loss, tr_total = 0, 0\n",
    "            for i, data in enumerate(trainGen(), 1):\n",
    "                loss, _ = sess.run([self.rmse_loss, self.train_op], feed_dict=self.feed_dict(data, mode=\"train\"))\n",
    "                tr_loss += loss ** 2 * len(data[\"query_movie_ids\"])\n",
    "                tr_total += len(data[\"query_movie_ids\"])\n",
    "                print(\"\\rtrain loss: {:.3f}\".format(loss), end=\"\")\n",
    "            if testGen is not None:\n",
    "                epochLoss = self.epochLoss(sess, testGen)\n",
    "\n",
    "            tpl = \"\\r%02d\\t%.3f\\t\\t%.3f\\t\\t%.3f secs\"\n",
    "            if minLoss > epochLoss:\n",
    "                tpl += \", saving ...\"\n",
    "                self.saver.save(sess, os.path.join(self.modelDir, 'model'), global_step=ep)\n",
    "                minLoss = epochLoss\n",
    "\n",
    "            end = time.time()\n",
    "            print(tpl % (ep, np.sqrt(tr_loss / tr_total), epochLoss, end - start))\n",
    "            start = end\n",
    "        return self\n",
    "\n",
    "    def ckpt(self, sess, modelDir):\n",
    "        \"\"\"load latest saved model\"\"\"\n",
    "        latestCkpt = tf.train.latest_checkpoint(modelDir)\n",
    "        if latestCkpt:\n",
    "            self.saver.restore(sess, latestCkpt)\n",
    "        return latestCkpt\n",
    "\n",
    "    def epochLoss(self, sess, dataGen, tpe=\"rmse\"):\n",
    "        totLoss, totCnt = 0, 0\n",
    "        # loss_map = {\"rmse\": self.rmse_loss, \"mae\": self.mae_loss, \"target_loss\": self.loss}\n",
    "        for data in dataGen():\n",
    "            lossTensor = self.rmse_loss if tpe == \"rmse\" else self.mae_loss\n",
    "            loss = sess.run(lossTensor, feed_dict=self.feed_dict(data, mode=\"eval\"))\n",
    "            totLoss += (loss ** 2 if tpe == \"rmse\" else loss) * len(data[\"query_movie_ids\"])\n",
    "            totCnt += len(data[\"query_movie_ids\"])\n",
    "        return np.sqrt(totLoss / totCnt) if tpe == \"rmse\" else totLoss / totCnt\n",
    "\n",
    "    def predict(self, sess, user_queries):\n",
    "        self.ckpt(sess, self.modelDir)\n",
    "        return sess.run(self.pred, feed_dict=self.feed_dict(user_queries, mode=\"infer\"))\n",
    "\n",
    "    def evaluateRMSE(self, sess, dataGen):\n",
    "        \"\"\"計算root mean square error\"\"\"\n",
    "        self.ckpt(sess, self.modelDir)\n",
    "        return self.epochLoss(sess, dataGen, tpe=\"rmse\")\n",
    "\n",
    "    def evaluateMAE(self, sess, dataGen):\n",
    "        \"\"\"計算 mean absolutely error\"\"\"\n",
    "        self.ckpt(sess, self.modelDir)\n",
    "        return self.epochLoss(sess, dataGen, tpe=\"mae\")\n",
    "    \n",
    "\n",
    "learning_rate = 0.05\n",
    "dim = 16\n",
    "reg = 0.005\n",
    "modelDir = \"./model/model_mf_with_history\"\n",
    "\n",
    "tf.reset_default_graph()\n",
    "model = ModelMFWithHistory(\n",
    "            n_items=nMovies,\n",
    "            dim=dim,\n",
    "            reg=reg,\n",
    "            learning_rate=learning_rate,\n",
    "            modelDir=modelDir)"
   ]
  },
  {
   "cell_type": "markdown",
   "metadata": {},
   "source": [
    "## Trainging"
   ]
  },
  {
   "cell_type": "code",
   "execution_count": null,
   "metadata": {
    "collapsed": false,
    "scrolled": true
   },
   "outputs": [],
   "source": [
    "# !cp -a ./model/model_mf_with_history_bak/* ./model/model_mf_with_history/\n",
    "# 每個batch的數量\n",
    "n_batch = 128\n",
    "with tf.Session(graph=model.graph) as sess:\n",
    "    model.fit(sess, dataFn(trProcessed, n_batch=n_batch, shuffle=True), dataFn(teProcessed, n_batch=n_batch), nEpoch=10, reset=True)"
   ]
  },
  {
   "cell_type": "markdown",
   "metadata": {},
   "source": [
    "### Another Data Function For Predict\n",
    "1. user_data function: 單純改變function參數, 可指定user id"
   ]
  },
  {
   "cell_type": "code",
   "execution_count": 11,
   "metadata": {
    "collapsed": false
   },
   "outputs": [
    {
     "data": {
      "text/html": [
       "\n",
       "          <script src=\"/static/components/requirejs/require.js\"></script>\n",
       "          <script>\n",
       "            requirejs.config({\n",
       "              paths: {\n",
       "                base: '/static/base',\n",
       "              },\n",
       "            });\n",
       "          </script>\n",
       "          "
      ],
      "text/plain": [
       "<IPython.core.display.HTML object>"
      ]
     },
     "metadata": {},
     "output_type": "display_data"
    },
    {
     "data": {
      "text/html": [
       "<div>\n",
       "<table border=\"1\" class=\"dataframe\">\n",
       "  <thead>\n",
       "    <tr style=\"text-align: right;\">\n",
       "      <th></th>\n",
       "      <th>user_id</th>\n",
       "      <th>query_movie_ids</th>\n",
       "      <th>query_movie_ids_len</th>\n",
       "      <th>candidate_movie_id</th>\n",
       "    </tr>\n",
       "  </thead>\n",
       "  <tbody>\n",
       "    <tr>\n",
       "      <th>0</th>\n",
       "      <td>0</td>\n",
       "      <td>[1515, 1083, 833, 859, 30, 1111, 906, 1017, 10...</td>\n",
       "      <td>13</td>\n",
       "      <td>931</td>\n",
       "    </tr>\n",
       "    <tr>\n",
       "      <th>1</th>\n",
       "      <td>1</td>\n",
       "      <td>[16, 129, 195, 237, 238, 9, 280, 454, 447, 427...</td>\n",
       "      <td>52</td>\n",
       "      <td>37</td>\n",
       "    </tr>\n",
       "  </tbody>\n",
       "</table>\n",
       "</div>"
      ],
      "text/plain": [
       "   user_id                                    query_movie_ids  \\\n",
       "0        0  [1515, 1083, 833, 859, 30, 1111, 906, 1017, 10...   \n",
       "1        1  [16, 129, 195, 237, 238, 9, 280, 454, 447, 427...   \n",
       "\n",
       "   query_movie_ids_len  candidate_movie_id  \n",
       "0                   13                 931  \n",
       "1                   52                  37  "
      ]
     },
     "execution_count": 11,
     "metadata": {},
     "output_type": "execute_result"
    }
   ],
   "source": [
    "def user_data(data, uids, n_batch=128):\n",
    "    u_col = [\"user_id\", \"query_movie_ids\", \"candidate_movie_id\"]\n",
    "    cache = {\"u_ary\": []}\n",
    "    def clear(u_ary):\n",
    "        u_data = do_multi(pd.DataFrame(data=u_ary, columns=u_col), [\"query_movie_ids\"])\n",
    "        cache[\"u_ary\"] = []\n",
    "        return u_data\n",
    "    \n",
    "    for uid, df in data[data.user_id.isin(uids)].groupby(\"user_id\"):\n",
    "        u_rec, u_ary = df.iloc[0], cache[\"u_ary\"]\n",
    "        # print(u_rec.query_movie_ids, u_rec.candidate_movie_id)\n",
    "        u_rec.set_value(\"query_movie_ids\", u_rec.query_movie_ids + [u_rec.candidate_movie_id])\n",
    "        u_ary.append(u_rec[u_col].values)\n",
    "        if len(u_ary) >= n_batch:\n",
    "            yield clear(u_ary)\n",
    "    yield clear(u_ary)\n",
    "    \n",
    "for u_data in user_data(trProcessed, [0, 1], n_batch=5):\n",
    "    break\n",
    "pd.DataFrame(u_data)"
   ]
  },
  {
   "cell_type": "markdown",
   "metadata": {},
   "source": [
    "### 單一user rating分布圖"
   ]
  },
  {
   "cell_type": "code",
   "execution_count": 12,
   "metadata": {
    "collapsed": false
   },
   "outputs": [
    {
     "data": {
      "text/html": [
       "\n",
       "          <script src=\"/static/components/requirejs/require.js\"></script>\n",
       "          <script>\n",
       "            requirejs.config({\n",
       "              paths: {\n",
       "                base: '/static/base',\n",
       "              },\n",
       "            });\n",
       "          </script>\n",
       "          "
      ],
      "text/plain": [
       "<IPython.core.display.HTML object>"
      ]
     },
     "metadata": {},
     "output_type": "display_data"
    },
    {
     "name": "stdout",
     "output_type": "stream",
     "text": [
      "INFO:tensorflow:Restoring parameters from ./model/model_mf_with_history/model-3\n",
      "shape:  (1, 9125) [[ 0.8058  0.6409  0.5329 ...,  0.6471  0.6545  0.6671]]\n"
     ]
    },
    {
     "data": {
      "image/png": "[encoded data removed]",
      "text/plain": [
       "<matplotlib.figure.Figure at 0x7fe2dd609f60>"
      ]
     },
     "metadata": {},
     "output_type": "display_data"
    }
   ],
   "source": [
    "from sklearn.preprocessing import minmax_scale\n",
    "# user id from 0 ~ 670\n",
    "uid = 22\n",
    "u_data = list(user_data(trProcessed, [uid], n_batch=5))[0]\n",
    "with tf.Session(graph=model.graph) as sess:\n",
    "    pred = model.predict(sess, u_data)\n",
    "print(\"shape: \", pred.shape, minmax_scale(pred.T).T)\n",
    "\n",
    "nnzCoord = teRatingMat[uid].nonzero()\n",
    "f, ax = plt.subplots(1, 2, figsize=(10, 5))\n",
    "ax[0].set_title(\"pred distribution\")\n",
    "pd.Series(pred.ravel()[nnzCoord]).hist(bins=30, ax=ax[0])\n",
    "ax[1].set_title(\"real distribution\")\n",
    "pd.Series(map(lambda e: e, teRatingMat[uid][nnzCoord])).hist(bins=30, ax=ax[1])\n",
    "plt.show()"
   ]
  },
  {
   "cell_type": "markdown",
   "metadata": {},
   "source": [
    "<br/>\n",
    "<br/>\n",
    "<br/>\n",
    "## evaluate model"
   ]
  },
  {
   "cell_type": "code",
   "execution_count": 13,
   "metadata": {
    "collapsed": false
   },
   "outputs": [
    {
     "data": {
      "text/html": [
       "\n",
       "          <script src=\"/static/components/requirejs/require.js\"></script>\n",
       "          <script>\n",
       "            requirejs.config({\n",
       "              paths: {\n",
       "                base: '/static/base',\n",
       "              },\n",
       "            });\n",
       "          </script>\n",
       "          "
      ],
      "text/plain": [
       "<IPython.core.display.HTML object>"
      ]
     },
     "metadata": {},
     "output_type": "display_data"
    },
    {
     "name": "stdout",
     "output_type": "stream",
     "text": [
      "INFO:tensorflow:Restoring parameters from ./model/model_mf_with_history/model-3\n",
      "INFO:tensorflow:Restoring parameters from ./model/model_mf_with_history/model-3\n",
      "\n",
      "MAE loss:  0.723516335045\n",
      "RMSE loss:  0.92537074289\n",
      "CPU times: user 45.6 s, sys: 515 ms, total: 46.1 s\n",
      "Wall time: 15.1 s\n"
     ]
    }
   ],
   "source": [
    "%%time\n",
    "n_batch=128\n",
    "with tf.Session(graph=model.graph) as sess:\n",
    "    mae_ = model.evaluateMAE(sess, dataFn(teProcessed, n_batch=n_batch))\n",
    "    rmse_ = model.evaluateRMSE(sess, dataFn(teProcessed, n_batch=n_batch))\n",
    "\n",
    "print()\n",
    "print(\"MAE loss: \", mae_)\n",
    "print(\"RMSE loss: \", rmse_)"
   ]
  },
  {
   "cell_type": "markdown",
   "metadata": {},
   "source": [
    "#### User導向評估(Recall)"
   ]
  },
  {
   "cell_type": "code",
   "execution_count": 14,
   "metadata": {
    "collapsed": false,
    "scrolled": true
   },
   "outputs": [
    {
     "data": {
      "text/html": [
       "\n",
       "          <script src=\"/static/components/requirejs/require.js\"></script>\n",
       "          <script>\n",
       "            requirejs.config({\n",
       "              paths: {\n",
       "                base: '/static/base',\n",
       "              },\n",
       "            });\n",
       "          </script>\n",
       "          "
      ],
      "text/plain": [
       "<IPython.core.display.HTML object>"
      ]
     },
     "metadata": {},
     "output_type": "display_data"
    },
    {
     "name": "stdout",
     "output_type": "stream",
     "text": [
      "INFO:tensorflow:Restoring parameters from ./model/model_mf_with_history/model-3\n"
     ]
    },
    {
     "data": {
      "text/html": [
       "<div>\n",
       "<table border=\"1\" class=\"dataframe\">\n",
       "  <thead>\n",
       "    <tr style=\"text-align: right;\">\n",
       "      <th></th>\n",
       "      <th>userId</th>\n",
       "      <th>movieId</th>\n",
       "      <th>title</th>\n",
       "      <th>rating</th>\n",
       "      <th>predRating</th>\n",
       "    </tr>\n",
       "  </thead>\n",
       "  <tbody>\n",
       "    <tr>\n",
       "      <th>3089</th>\n",
       "      <td>11</td>\n",
       "      <td>3089</td>\n",
       "      <td>Cell, The (2000)</td>\n",
       "      <td>5.0</td>\n",
       "      <td>1.755454</td>\n",
       "    </tr>\n",
       "    <tr>\n",
       "      <th>3058</th>\n",
       "      <td>11</td>\n",
       "      <td>3058</td>\n",
       "      <td>Coyote Ugly (2000)</td>\n",
       "      <td>5.0</td>\n",
       "      <td>2.058670</td>\n",
       "    </tr>\n",
       "    <tr>\n",
       "      <th>3100</th>\n",
       "      <td>11</td>\n",
       "      <td>3100</td>\n",
       "      <td>Art of War, The (2000)</td>\n",
       "      <td>5.0</td>\n",
       "      <td>2.512545</td>\n",
       "    </tr>\n",
       "    <tr>\n",
       "      <th>3091</th>\n",
       "      <td>11</td>\n",
       "      <td>3091</td>\n",
       "      <td>Original Kings of Comedy, The (2000)</td>\n",
       "      <td>5.0</td>\n",
       "      <td>1.990052</td>\n",
       "    </tr>\n",
       "    <tr>\n",
       "      <th>3062</th>\n",
       "      <td>11</td>\n",
       "      <td>3062</td>\n",
       "      <td>Saving Grace (2000)</td>\n",
       "      <td>4.0</td>\n",
       "      <td>2.518221</td>\n",
       "    </tr>\n",
       "    <tr>\n",
       "      <th>4499</th>\n",
       "      <td>11</td>\n",
       "      <td>4499</td>\n",
       "      <td>Man Who Fell to Earth, The (1976)</td>\n",
       "      <td>4.0</td>\n",
       "      <td>2.559899</td>\n",
       "    </tr>\n",
       "    <tr>\n",
       "      <th>3088</th>\n",
       "      <td>11</td>\n",
       "      <td>3088</td>\n",
       "      <td>Replacements, The (2000)</td>\n",
       "      <td>3.0</td>\n",
       "      <td>2.099846</td>\n",
       "    </tr>\n",
       "    <tr>\n",
       "      <th>3045</th>\n",
       "      <td>11</td>\n",
       "      <td>3045</td>\n",
       "      <td>What About Bob? (1991)</td>\n",
       "      <td>3.0</td>\n",
       "      <td>2.664723</td>\n",
       "    </tr>\n",
       "    <tr>\n",
       "      <th>3090</th>\n",
       "      <td>11</td>\n",
       "      <td>3090</td>\n",
       "      <td>Godzilla 2000 (Gojira ni-sen mireniamu) (1999)</td>\n",
       "      <td>3.0</td>\n",
       "      <td>2.078272</td>\n",
       "    </tr>\n",
       "    <tr>\n",
       "      <th>3097</th>\n",
       "      <td>11</td>\n",
       "      <td>3097</td>\n",
       "      <td>Cat Ballou (1965)</td>\n",
       "      <td>3.0</td>\n",
       "      <td>2.533316</td>\n",
       "    </tr>\n",
       "    <tr>\n",
       "      <th>3104</th>\n",
       "      <td>11</td>\n",
       "      <td>3104</td>\n",
       "      <td>Love &amp; Sex (2000)</td>\n",
       "      <td>3.0</td>\n",
       "      <td>2.420445</td>\n",
       "    </tr>\n",
       "    <tr>\n",
       "      <th>3039</th>\n",
       "      <td>11</td>\n",
       "      <td>3039</td>\n",
       "      <td>Anatomy of a Murder (1959)</td>\n",
       "      <td>3.0</td>\n",
       "      <td>2.824763</td>\n",
       "    </tr>\n",
       "    <tr>\n",
       "      <th>3072</th>\n",
       "      <td>11</td>\n",
       "      <td>3072</td>\n",
       "      <td>Air America (1990)</td>\n",
       "      <td>2.0</td>\n",
       "      <td>2.381609</td>\n",
       "    </tr>\n",
       "    <tr>\n",
       "      <th>3061</th>\n",
       "      <td>11</td>\n",
       "      <td>3061</td>\n",
       "      <td>Mad About Mambo (2000)</td>\n",
       "      <td>2.0</td>\n",
       "      <td>2.507001</td>\n",
       "    </tr>\n",
       "    <tr>\n",
       "      <th>3093</th>\n",
       "      <td>11</td>\n",
       "      <td>3093</td>\n",
       "      <td>Naked Gun 2 1/2: The Smell of Fear, The (1991)</td>\n",
       "      <td>2.0</td>\n",
       "      <td>2.767421</td>\n",
       "    </tr>\n",
       "    <tr>\n",
       "      <th>3095</th>\n",
       "      <td>11</td>\n",
       "      <td>3095</td>\n",
       "      <td>Shane (1953)</td>\n",
       "      <td>2.0</td>\n",
       "      <td>2.757213</td>\n",
       "    </tr>\n",
       "    <tr>\n",
       "      <th>3060</th>\n",
       "      <td>11</td>\n",
       "      <td>3060</td>\n",
       "      <td>Space Cowboys (2000)</td>\n",
       "      <td>2.0</td>\n",
       "      <td>2.111876</td>\n",
       "    </tr>\n",
       "    <tr>\n",
       "      <th>3105</th>\n",
       "      <td>11</td>\n",
       "      <td>3105</td>\n",
       "      <td>Steal This Movie! (2000)</td>\n",
       "      <td>2.0</td>\n",
       "      <td>2.462575</td>\n",
       "    </tr>\n",
       "    <tr>\n",
       "      <th>3074</th>\n",
       "      <td>11</td>\n",
       "      <td>3074</td>\n",
       "      <td>Steel Magnolias (1989)</td>\n",
       "      <td>1.0</td>\n",
       "      <td>2.785959</td>\n",
       "    </tr>\n",
       "  </tbody>\n",
       "</table>\n",
       "</div>"
      ],
      "text/plain": [
       "      userId  movieId                                           title  rating  \\\n",
       "3089      11     3089                                Cell, The (2000)     5.0   \n",
       "3058      11     3058                              Coyote Ugly (2000)     5.0   \n",
       "3100      11     3100                          Art of War, The (2000)     5.0   \n",
       "3091      11     3091            Original Kings of Comedy, The (2000)     5.0   \n",
       "3062      11     3062                             Saving Grace (2000)     4.0   \n",
       "4499      11     4499               Man Who Fell to Earth, The (1976)     4.0   \n",
       "3088      11     3088                        Replacements, The (2000)     3.0   \n",
       "3045      11     3045                          What About Bob? (1991)     3.0   \n",
       "3090      11     3090  Godzilla 2000 (Gojira ni-sen mireniamu) (1999)     3.0   \n",
       "3097      11     3097                               Cat Ballou (1965)     3.0   \n",
       "3104      11     3104                               Love & Sex (2000)     3.0   \n",
       "3039      11     3039                      Anatomy of a Murder (1959)     3.0   \n",
       "3072      11     3072                              Air America (1990)     2.0   \n",
       "3061      11     3061                          Mad About Mambo (2000)     2.0   \n",
       "3093      11     3093  Naked Gun 2 1/2: The Smell of Fear, The (1991)     2.0   \n",
       "3095      11     3095                                    Shane (1953)     2.0   \n",
       "3060      11     3060                            Space Cowboys (2000)     2.0   \n",
       "3105      11     3105                        Steal This Movie! (2000)     2.0   \n",
       "3074      11     3074                          Steel Magnolias (1989)     1.0   \n",
       "\n",
       "      predRating  \n",
       "3089    1.755454  \n",
       "3058    2.058670  \n",
       "3100    2.512545  \n",
       "3091    1.990052  \n",
       "3062    2.518221  \n",
       "4499    2.559899  \n",
       "3088    2.099846  \n",
       "3045    2.664723  \n",
       "3090    2.078272  \n",
       "3097    2.533316  \n",
       "3104    2.420445  \n",
       "3039    2.824763  \n",
       "3072    2.381609  \n",
       "3061    2.507001  \n",
       "3093    2.767421  \n",
       "3095    2.757213  \n",
       "3060    2.111876  \n",
       "3105    2.462575  \n",
       "3074    2.785959  "
      ]
     },
     "execution_count": 14,
     "metadata": {},
     "output_type": "execute_result"
    }
   ],
   "source": [
    "# 可給定user id細看每個user的rating與model預測效果\n",
    "# valid user id from 0 ~ 670\n",
    "uid = 11\n",
    "with tf.Session(graph=model.graph) as sess:\n",
    "    u_data = list(user_data(trProcessed, [uid], n_batch=5))[0]\n",
    "    recomm = model.predict(sess, u_data).ravel()\n",
    "recommDf = pd.DataFrame(data={\n",
    "              \"userId\": uid,\n",
    "              \"movieId\": range(len(recomm)), \n",
    "              \"title\": midMap[np.arange(len(recomm))].values, \n",
    "              \"rating\": teRatingMat[uid, range(len(recomm))],\n",
    "              \"predRating\": recomm},\n",
    "             columns=(\"userId\", \"movieId\", \"title\", \"rating\", \"predRating\"))\n",
    "# ascending 可以調整True or False觀察結果\n",
    "recommDf.query(\"rating != 0\").sort_values(\"rating\", ascending=False).head(50)"
   ]
  },
  {
   "cell_type": "markdown",
   "metadata": {},
   "source": [
    "#### Model導向評估(Precision)"
   ]
  },
  {
   "cell_type": "code",
   "execution_count": 15,
   "metadata": {
    "collapsed": false,
    "scrolled": true
   },
   "outputs": [
    {
     "data": {
      "text/html": [
       "\n",
       "          <script src=\"/static/components/requirejs/require.js\"></script>\n",
       "          <script>\n",
       "            requirejs.config({\n",
       "              paths: {\n",
       "                base: '/static/base',\n",
       "              },\n",
       "            });\n",
       "          </script>\n",
       "          "
      ],
      "text/plain": [
       "<IPython.core.display.HTML object>"
      ]
     },
     "metadata": {},
     "output_type": "display_data"
    },
    {
     "data": {
      "text/html": [
       "<div>\n",
       "<table border=\"1\" class=\"dataframe\">\n",
       "  <thead>\n",
       "    <tr style=\"text-align: right;\">\n",
       "      <th></th>\n",
       "      <th>userId</th>\n",
       "      <th>movieId</th>\n",
       "      <th>title</th>\n",
       "      <th>rating</th>\n",
       "      <th>predRating</th>\n",
       "    </tr>\n",
       "  </thead>\n",
       "  <tbody>\n",
       "    <tr>\n",
       "      <th>3039</th>\n",
       "      <td>11</td>\n",
       "      <td>3039</td>\n",
       "      <td>Anatomy of a Murder (1959)</td>\n",
       "      <td>3.0</td>\n",
       "      <td>2.824763</td>\n",
       "    </tr>\n",
       "    <tr>\n",
       "      <th>3074</th>\n",
       "      <td>11</td>\n",
       "      <td>3074</td>\n",
       "      <td>Steel Magnolias (1989)</td>\n",
       "      <td>1.0</td>\n",
       "      <td>2.785959</td>\n",
       "    </tr>\n",
       "    <tr>\n",
       "      <th>3093</th>\n",
       "      <td>11</td>\n",
       "      <td>3093</td>\n",
       "      <td>Naked Gun 2 1/2: The Smell of Fear, The (1991)</td>\n",
       "      <td>2.0</td>\n",
       "      <td>2.767421</td>\n",
       "    </tr>\n",
       "    <tr>\n",
       "      <th>3095</th>\n",
       "      <td>11</td>\n",
       "      <td>3095</td>\n",
       "      <td>Shane (1953)</td>\n",
       "      <td>2.0</td>\n",
       "      <td>2.757213</td>\n",
       "    </tr>\n",
       "    <tr>\n",
       "      <th>3045</th>\n",
       "      <td>11</td>\n",
       "      <td>3045</td>\n",
       "      <td>What About Bob? (1991)</td>\n",
       "      <td>3.0</td>\n",
       "      <td>2.664723</td>\n",
       "    </tr>\n",
       "    <tr>\n",
       "      <th>4499</th>\n",
       "      <td>11</td>\n",
       "      <td>4499</td>\n",
       "      <td>Man Who Fell to Earth, The (1976)</td>\n",
       "      <td>4.0</td>\n",
       "      <td>2.559899</td>\n",
       "    </tr>\n",
       "    <tr>\n",
       "      <th>3097</th>\n",
       "      <td>11</td>\n",
       "      <td>3097</td>\n",
       "      <td>Cat Ballou (1965)</td>\n",
       "      <td>3.0</td>\n",
       "      <td>2.533316</td>\n",
       "    </tr>\n",
       "    <tr>\n",
       "      <th>3062</th>\n",
       "      <td>11</td>\n",
       "      <td>3062</td>\n",
       "      <td>Saving Grace (2000)</td>\n",
       "      <td>4.0</td>\n",
       "      <td>2.518221</td>\n",
       "    </tr>\n",
       "    <tr>\n",
       "      <th>3100</th>\n",
       "      <td>11</td>\n",
       "      <td>3100</td>\n",
       "      <td>Art of War, The (2000)</td>\n",
       "      <td>5.0</td>\n",
       "      <td>2.512545</td>\n",
       "    </tr>\n",
       "    <tr>\n",
       "      <th>3061</th>\n",
       "      <td>11</td>\n",
       "      <td>3061</td>\n",
       "      <td>Mad About Mambo (2000)</td>\n",
       "      <td>2.0</td>\n",
       "      <td>2.507001</td>\n",
       "    </tr>\n",
       "    <tr>\n",
       "      <th>3105</th>\n",
       "      <td>11</td>\n",
       "      <td>3105</td>\n",
       "      <td>Steal This Movie! (2000)</td>\n",
       "      <td>2.0</td>\n",
       "      <td>2.462575</td>\n",
       "    </tr>\n",
       "    <tr>\n",
       "      <th>3104</th>\n",
       "      <td>11</td>\n",
       "      <td>3104</td>\n",
       "      <td>Love &amp; Sex (2000)</td>\n",
       "      <td>3.0</td>\n",
       "      <td>2.420445</td>\n",
       "    </tr>\n",
       "    <tr>\n",
       "      <th>3072</th>\n",
       "      <td>11</td>\n",
       "      <td>3072</td>\n",
       "      <td>Air America (1990)</td>\n",
       "      <td>2.0</td>\n",
       "      <td>2.381609</td>\n",
       "    </tr>\n",
       "    <tr>\n",
       "      <th>3060</th>\n",
       "      <td>11</td>\n",
       "      <td>3060</td>\n",
       "      <td>Space Cowboys (2000)</td>\n",
       "      <td>2.0</td>\n",
       "      <td>2.111876</td>\n",
       "    </tr>\n",
       "    <tr>\n",
       "      <th>3088</th>\n",
       "      <td>11</td>\n",
       "      <td>3088</td>\n",
       "      <td>Replacements, The (2000)</td>\n",
       "      <td>3.0</td>\n",
       "      <td>2.099846</td>\n",
       "    </tr>\n",
       "    <tr>\n",
       "      <th>3090</th>\n",
       "      <td>11</td>\n",
       "      <td>3090</td>\n",
       "      <td>Godzilla 2000 (Gojira ni-sen mireniamu) (1999)</td>\n",
       "      <td>3.0</td>\n",
       "      <td>2.078272</td>\n",
       "    </tr>\n",
       "    <tr>\n",
       "      <th>3058</th>\n",
       "      <td>11</td>\n",
       "      <td>3058</td>\n",
       "      <td>Coyote Ugly (2000)</td>\n",
       "      <td>5.0</td>\n",
       "      <td>2.058670</td>\n",
       "    </tr>\n",
       "    <tr>\n",
       "      <th>3091</th>\n",
       "      <td>11</td>\n",
       "      <td>3091</td>\n",
       "      <td>Original Kings of Comedy, The (2000)</td>\n",
       "      <td>5.0</td>\n",
       "      <td>1.990052</td>\n",
       "    </tr>\n",
       "    <tr>\n",
       "      <th>3089</th>\n",
       "      <td>11</td>\n",
       "      <td>3089</td>\n",
       "      <td>Cell, The (2000)</td>\n",
       "      <td>5.0</td>\n",
       "      <td>1.755454</td>\n",
       "    </tr>\n",
       "  </tbody>\n",
       "</table>\n",
       "</div>"
      ],
      "text/plain": [
       "      userId  movieId                                           title  rating  \\\n",
       "3039      11     3039                      Anatomy of a Murder (1959)     3.0   \n",
       "3074      11     3074                          Steel Magnolias (1989)     1.0   \n",
       "3093      11     3093  Naked Gun 2 1/2: The Smell of Fear, The (1991)     2.0   \n",
       "3095      11     3095                                    Shane (1953)     2.0   \n",
       "3045      11     3045                          What About Bob? (1991)     3.0   \n",
       "4499      11     4499               Man Who Fell to Earth, The (1976)     4.0   \n",
       "3097      11     3097                               Cat Ballou (1965)     3.0   \n",
       "3062      11     3062                             Saving Grace (2000)     4.0   \n",
       "3100      11     3100                          Art of War, The (2000)     5.0   \n",
       "3061      11     3061                          Mad About Mambo (2000)     2.0   \n",
       "3105      11     3105                        Steal This Movie! (2000)     2.0   \n",
       "3104      11     3104                               Love & Sex (2000)     3.0   \n",
       "3072      11     3072                              Air America (1990)     2.0   \n",
       "3060      11     3060                            Space Cowboys (2000)     2.0   \n",
       "3088      11     3088                        Replacements, The (2000)     3.0   \n",
       "3090      11     3090  Godzilla 2000 (Gojira ni-sen mireniamu) (1999)     3.0   \n",
       "3058      11     3058                              Coyote Ugly (2000)     5.0   \n",
       "3091      11     3091            Original Kings of Comedy, The (2000)     5.0   \n",
       "3089      11     3089                                Cell, The (2000)     5.0   \n",
       "\n",
       "      predRating  \n",
       "3039    2.824763  \n",
       "3074    2.785959  \n",
       "3093    2.767421  \n",
       "3095    2.757213  \n",
       "3045    2.664723  \n",
       "4499    2.559899  \n",
       "3097    2.533316  \n",
       "3062    2.518221  \n",
       "3100    2.512545  \n",
       "3061    2.507001  \n",
       "3105    2.462575  \n",
       "3104    2.420445  \n",
       "3072    2.381609  \n",
       "3060    2.111876  \n",
       "3088    2.099846  \n",
       "3090    2.078272  \n",
       "3058    2.058670  \n",
       "3091    1.990052  \n",
       "3089    1.755454  "
      ]
     },
     "execution_count": 15,
     "metadata": {},
     "output_type": "execute_result"
    }
   ],
   "source": [
    "# .query(\"rating != 0\")\n",
    "recommDf.query(\"rating != 0\").sort_values(\"predRating\", ascending=False).head(50)"
   ]
  },
  {
   "cell_type": "code",
   "execution_count": 16,
   "metadata": {
    "collapsed": false
   },
   "outputs": [
    {
     "data": {
      "text/html": [
       "\n",
       "          <script src=\"/static/components/requirejs/require.js\"></script>\n",
       "          <script>\n",
       "            requirejs.config({\n",
       "              paths: {\n",
       "                base: '/static/base',\n",
       "              },\n",
       "            });\n",
       "          </script>\n",
       "          "
      ],
      "text/plain": [
       "<IPython.core.display.HTML object>"
      ]
     },
     "metadata": {},
     "output_type": "display_data"
    },
    {
     "name": "stdout",
     "output_type": "stream",
     "text": [
      "INFO:tensorflow:Restoring parameters from ./model/model_mf_with_history/model-3\n",
      "INFO:tensorflow:Restoring parameters from ./model/model_mf_with_history/model-3\n",
      "INFO:tensorflow:Restoring parameters from ./model/model_mf_with_history/model-3\n",
      "INFO:tensorflow:Restoring parameters from ./model/model_mf_with_history/model-3\n",
      "INFO:tensorflow:Restoring parameters from ./model/model_mf_with_history/model-3\n",
      "INFO:tensorflow:Restoring parameters from ./model/model_mf_with_history/model-3\n",
      "auc: 0.745814767217\n"
     ]
    },
    {
     "data": {
      "image/png": "[encoded data removed]",
      "text/plain": [
       "<matplotlib.figure.Figure at 0x7fe290224dd8>"
      ]
     },
     "metadata": {},
     "output_type": "display_data"
    }
   ],
   "source": [
    "from sklearn.metrics import roc_curve, auc, confusion_matrix\n",
    "\n",
    "def drawRocCurve(y, predProba):\n",
    "    fprRf, tprRf, _ = roc_curve(y, predProba, pos_label=1)\n",
    "    aucScr = auc(fprRf, tprRf)\n",
    "    print(\"auc:\", aucScr)\n",
    "    f, ax = plt.subplots(1, 1, figsize=(6, 6))\n",
    "    \n",
    "    ax.plot([0, 1], [0, 1], 'k--')\n",
    "    ax.plot(fprRf, tprRf, label='ROC CURVE')\n",
    "    ax.set_xlabel('False positive rate')\n",
    "    ax.set_ylabel('True positive rate')\n",
    "    ax.set_title('AOC: Area Under Curve (score: {:.4f})'.format(aucScr))\n",
    "    ax.legend(loc='best')\n",
    "    plt.show()\n",
    "    \n",
    "coord = teRatingMat.nonzero()\n",
    "with tf.Session(graph=model.graph) as sess:\n",
    "    predMat = []\n",
    "    for u_data in user_data(teProcessed, np.arange(nUsers), n_batch=128):\n",
    "        predMat.append(model.predict(sess, u_data))\n",
    "    predMat = np.vstack(predMat)\n",
    "# regard rating >= 4 as user like this movie\n",
    "drawRocCurve((teRatingMat[coord] >= 4).astype(int), predMat[coord])"
   ]
  },
  {
   "cell_type": "code",
   "execution_count": 17,
   "metadata": {
    "collapsed": false
   },
   "outputs": [
    {
     "data": {
      "text/html": [
       "\n",
       "          <script src=\"/static/components/requirejs/require.js\"></script>\n",
       "          <script>\n",
       "            requirejs.config({\n",
       "              paths: {\n",
       "                base: '/static/base',\n",
       "              },\n",
       "            });\n",
       "          </script>\n",
       "          "
      ],
      "text/plain": [
       "<IPython.core.display.HTML object>"
      ]
     },
     "metadata": {},
     "output_type": "display_data"
    },
    {
     "data": {
      "image/png": "[encoded data removed]",
      "text/plain": [
       "<matplotlib.figure.Figure at 0x7fe2dd609f28>"
      ]
     },
     "metadata": {},
     "output_type": "display_data"
    }
   ],
   "source": [
    "pos_ary, neg_ary = [], []\n",
    "for label in teRatingMat:\n",
    "    label = label[label != 0]\n",
    "    pos_ary.append(sum(label >= 4))\n",
    "    neg_ary.append(sum(label < 4))\n",
    "    # print(\"pos: {}, neg: {}\".format(sum(label >= 4), sum(label < 4)))\n",
    "    \n",
    "def draw_pos_neg(idx):\n",
    "    pd.DataFrame(\n",
    "        index=idx,\n",
    "        data={\"pos\": np.array(pos_ary)[idx], \"neg\": np.array(neg_ary)[idx]}).plot.bar(figsize=(10, 5), alpha=0.8)\n",
    "    plt.show()\n",
    "\n",
    "draw_pos_neg(np.arange(len(teRatingMat))[0:10])"
   ]
  },
  {
   "cell_type": "markdown",
   "metadata": {},
   "source": [
    "### About Test Data Movie Ratings(觀察上圖)\n",
    "1. 0號, 2號, 5號, 9號 user 正向評價數量 < 10, 就算model全部預測命中, 命中率也不會是 100%!\n",
    "    ex: 0號user只有1個正向評價, 全部命中也指得到0.1的分數\n",
    "2. 3號user正向評價是負向評價的5倍多, 就算亂猜, 中的機率也很高"
   ]
  },
  {
   "cell_type": "code",
   "execution_count": 19,
   "metadata": {
    "collapsed": false
   },
   "outputs": [
    {
     "name": "stdout",
     "output_type": "stream",
     "text": [
      "266 個user正向評價總數小於10!\n"
     ]
    }
   ],
   "source": [
    "_ = sum(np.sum(teRatingMat >= 4, 1) < 10)\n",
    "print(\"{} 個user正向評價總數小於10!\".format(_))"
   ]
  },
  {
   "cell_type": "code",
   "execution_count": 19,
   "metadata": {
    "collapsed": false
   },
   "outputs": [
    {
     "data": {
      "text/html": [
       "\n",
       "          <script src=\"/static/components/requirejs/require.js\"></script>\n",
       "          <script>\n",
       "            requirejs.config({\n",
       "              paths: {\n",
       "                base: '/static/base',\n",
       "              },\n",
       "            });\n",
       "          </script>\n",
       "          "
      ],
      "text/plain": [
       "<IPython.core.display.HTML object>"
      ]
     },
     "metadata": {},
     "output_type": "display_data"
    },
    {
     "name": "stdout",
     "output_type": "stream",
     "text": [
      "rating數量 >= 10 且 負評價數量 >= 正評價數量 有 [209] 人\n",
      "rating正評價數量 >= 0 且 rating負評價數量 >= 0 有 [669] 人\n"
     ]
    }
   ],
   "source": [
    "def strict_condition(label):\n",
    "    label = label[label != 0]\n",
    "    pos, neg = sum(label >= 4), sum(label < 4)\n",
    "    return len(label) >= 10 and pos <= neg and pos > 0\n",
    "    \n",
    "print(\"rating數量 >= 10 且 負評價數量 >= 正評價數量 有 [{}] 人\".format(sum(strict_condition(label) for label in teRatingMat)))\n",
    "\n",
    "def norm_condition(label):\n",
    "    label = label[label != 0]\n",
    "    return sum(label >= 4) > 0 and sum(label < 4) > 0\n",
    "\n",
    "print(\"rating正評價數量 >= 0 且 rating負評價數量 >= 0 有 [{}] 人\".format(sum(norm_condition(label) for label in teRatingMat)))"
   ]
  },
  {
   "cell_type": "markdown",
   "metadata": {},
   "source": [
    "#### Precision At K: \n",
    "> **預測分數高(rating >= 4)的前10部電影, 和實際user rating比較, 觀察命中率**"
   ]
  },
  {
   "cell_type": "code",
   "execution_count": 20,
   "metadata": {
    "collapsed": false,
    "scrolled": true
   },
   "outputs": [
    {
     "data": {
      "text/html": [
       "\n",
       "          <script src=\"/static/components/requirejs/require.js\"></script>\n",
       "          <script>\n",
       "            requirejs.config({\n",
       "              paths: {\n",
       "                base: '/static/base',\n",
       "              },\n",
       "            });\n",
       "          </script>\n",
       "          "
      ],
      "text/plain": [
       "<IPython.core.display.HTML object>"
      ]
     },
     "metadata": {},
     "output_type": "display_data"
    },
    {
     "name": "stdout",
     "output_type": "stream",
     "text": [
      "INFO:tensorflow:Restoring parameters from ./model/model_mf_with_history/model-3\n",
      "INFO:tensorflow:Restoring parameters from ./model/model_mf_with_history/model-3\n",
      "INFO:tensorflow:Restoring parameters from ./model/model_mf_with_history/model-3\n",
      "INFO:tensorflow:Restoring parameters from ./model/model_mf_with_history/model-3\n",
      "INFO:tensorflow:Restoring parameters from ./model/model_mf_with_history/model-3\n",
      "INFO:tensorflow:Restoring parameters from ./model/model_mf_with_history/model-3\n",
      "strict condition precision at 10:  0.515311004785\n",
      "norm condition precision at 10:  0.635426008969\n",
      "CPU times: user 1.97 s, sys: 56 ms, total: 2.03 s\n",
      "Wall time: 1.46 s\n"
     ]
    }
   ],
   "source": [
    "%%time\n",
    "from sklearn.metrics import precision_score\n",
    "\n",
    "def precision_at_k(truth, pred_mat, condition_fn=None, k=10, label_thres=4):\n",
    "    hits, total = 0, 0\n",
    "    for label, pr in zip(truth, pred_mat):\n",
    "        if not condition_fn(label): continue\n",
    "\n",
    "        top_k_ind = (pr * (label != 0)).argsort()[::-1][:k]\n",
    "        hits += sum(label[top_k_ind] >= label_thres)\n",
    "        total += k\n",
    "    return hits / total\n",
    "\n",
    "with tf.Session(graph=model.graph) as sess:\n",
    "    pred_mat= []\n",
    "    for u_data in user_data(trProcessed, np.arange(nUsers), n_batch=n_batch):\n",
    "        pred_mat.append(model.predict(sess, u_data))\n",
    "    pred_mat = np.vstack(pred_mat)\n",
    "    \n",
    "print( \"strict condition precision at 10: \", precision_at_k(teRatingMat, pred_mat, strict_condition, k=10) )\n",
    "print( \"norm condition precision at 10: \", precision_at_k(teRatingMat, pred_mat, norm_condition, k=10) )"
   ]
  },
  {
   "cell_type": "markdown",
   "metadata": {},
   "source": [
    "### NDCG: Normalized Discounted Cumulative Gain\n",
    "1. A measure of ranking quality.\n",
    "2. loop 每一位user, prediciton score排序後計算NDCG\n",
    "    <br/>$$ DCG_p = \\sum^p_{i = 1} \\frac{2^{rel_i} - 1}{log_2(i + 1)} $$<br/>\n",
    "3. IDCG: Ideal DCG, 為理想狀態下的DCG分數, 即model全部命中的DCG分數, 而NDCG: Normalized DCG, 公式如下\n",
    "    <br/>$$ NDCG_p = \\sum^p_{i = 1} \\frac{DCG_p}{IDCG_p} $$<br/>\n",
    "4. 所以NDCG是一個比值, 介於0 ~ 1之間"
   ]
  },
  {
   "cell_type": "code",
   "execution_count": 21,
   "metadata": {
    "collapsed": false
   },
   "outputs": [
    {
     "data": {
      "text/html": [
       "\n",
       "          <script src=\"/static/components/requirejs/require.js\"></script>\n",
       "          <script>\n",
       "            requirejs.config({\n",
       "              paths: {\n",
       "                base: '/static/base',\n",
       "              },\n",
       "            });\n",
       "          </script>\n",
       "          "
      ],
      "text/plain": [
       "<IPython.core.display.HTML object>"
      ]
     },
     "metadata": {},
     "output_type": "display_data"
    },
    {
     "name": "stdout",
     "output_type": "stream",
     "text": [
      "INFO:tensorflow:Restoring parameters from ./model/model_mf_with_history/model-3\n",
      "INFO:tensorflow:Restoring parameters from ./model/model_mf_with_history/model-3\n",
      "INFO:tensorflow:Restoring parameters from ./model/model_mf_with_history/model-3\n",
      "INFO:tensorflow:Restoring parameters from ./model/model_mf_with_history/model-3\n",
      "INFO:tensorflow:Restoring parameters from ./model/model_mf_with_history/model-3\n",
      "INFO:tensorflow:Restoring parameters from ./model/model_mf_with_history/model-3\n",
      "strict condition ndcg at 10:  0.633375873021\n",
      "norm condition ndcg at 10:  0.760870891642\n"
     ]
    }
   ],
   "source": [
    "def single_user_ndcg(label, score, label_thres=4, k=10):\n",
    "    \"\"\"single user ndcg score\"\"\"\n",
    "    nnz = label.nonzero()[0]\n",
    "    # if np.sum(label >= label_thres) < k: return None\n",
    "    label, score = label[nnz], score[nnz]\n",
    "    label = (label >= label_thres).astype(int)\n",
    "    return utils.ndcg_score(label, score, k)\n",
    "\n",
    "def all_user_ndcg(label, pred_mat, cond_fn, label_thres=4, k=10):\n",
    "    \"\"\"avg of all user ndcg score\"\"\"\n",
    "    tot_ndcg, actual_cnt = 0, 0\n",
    "    for i, (label, score) in enumerate(zip(teRatingMat, pred_mat)):\n",
    "        if not cond_fn(label): continue\n",
    "\n",
    "        ndcg = single_user_ndcg(label, score, k=10)\n",
    "        if ndcg is not None:\n",
    "            tot_ndcg += ndcg\n",
    "            actual_cnt += 1\n",
    "    return tot_ndcg / actual_cnt\n",
    "\n",
    "with tf.Session(graph=model.graph) as sess:\n",
    "    pred_mat= []\n",
    "    for u_data in user_data(trProcessed, np.arange(nUsers), n_batch=n_batch):\n",
    "        pred_mat.append(model.predict(sess, u_data))\n",
    "    pred_mat = np.vstack(pred_mat)\n",
    "    \n",
    "strict_ndcg = all_user_ndcg(teRatingMat, pred_mat, strict_condition, label_thres=4, k=10)\n",
    "norm_ndcg = all_user_ndcg(teRatingMat, pred_mat, norm_condition, label_thres=4, k=10)\n",
    "print(\"strict condition ndcg at 10: \", strict_ndcg)\n",
    "print(\"norm condition ndcg at 10: \", norm_ndcg)"
   ]
  },
  {
   "cell_type": "markdown",
   "metadata": {},
   "source": [
    "#### Recall At K: \n",
    "> **對於每個user喜歡的前10部電影中(rating >= 4), 和預測值比較, 觀察命中率**"
   ]
  },
  {
   "cell_type": "code",
   "execution_count": 22,
   "metadata": {
    "collapsed": false
   },
   "outputs": [
    {
     "data": {
      "text/html": [
       "\n",
       "          <script src=\"/static/components/requirejs/require.js\"></script>\n",
       "          <script>\n",
       "            requirejs.config({\n",
       "              paths: {\n",
       "                base: '/static/base',\n",
       "              },\n",
       "            });\n",
       "          </script>\n",
       "          "
      ],
      "text/plain": [
       "<IPython.core.display.HTML object>"
      ]
     },
     "metadata": {},
     "output_type": "display_data"
    },
    {
     "name": "stdout",
     "output_type": "stream",
     "text": [
      "INFO:tensorflow:Restoring parameters from ./model/model_mf_with_history/model-3\n",
      "INFO:tensorflow:Restoring parameters from ./model/model_mf_with_history/model-3\n",
      "INFO:tensorflow:Restoring parameters from ./model/model_mf_with_history/model-3\n",
      "INFO:tensorflow:Restoring parameters from ./model/model_mf_with_history/model-3\n",
      "INFO:tensorflow:Restoring parameters from ./model/model_mf_with_history/model-3\n",
      "INFO:tensorflow:Restoring parameters from ./model/model_mf_with_history/model-3\n",
      "0.574567901235\n",
      "CPU times: user 16.1 s, sys: 50 ms, total: 16.1 s\n",
      "Wall time: 15.5 s\n"
     ]
    }
   ],
   "source": [
    "%%time\n",
    "from sklearn.metrics import recall_score\n",
    "\n",
    "def recall_at_k(truth, pred_mat, condition_fn, k=10, label_thres=4, pred_thres=0.8):\n",
    "    hits, total = 0, 0\n",
    "    for labels, pr in zip(truth, pred_mat):\n",
    "        if not condition_fn(labels): continue\n",
    "\n",
    "        top_percentile = np.percentile(pr, pred_thres * 100)\n",
    "        top_k_ind = labels.argsort()[::-1][:k]\n",
    "        hits += sum(pr[top_k_ind] >= top_percentile)\n",
    "        # hits += recall_score(labels >= label_thres, pr >= np.percentile(pr, pred_thres * 100))\n",
    "        total += k\n",
    "    return hits / total\n",
    "\n",
    "with tf.Session(graph=model.graph) as sess:\n",
    "    pred_mat= []\n",
    "    for u_data in user_data(trProcessed, np.arange(nUsers), n_batch=n_batch):\n",
    "        pred_mat.append(model.predict(sess, u_data))\n",
    "    pred_mat = np.vstack(pred_mat)\n",
    "    \n",
    "def recall_cond_fn(label):\n",
    "    \"\"\"recall條件限制為, user在test data正向評價電影至少10部\"\"\"\n",
    "    return sum(label >= 4) >= 10\n",
    "    \n",
    "print( recall_at_k(teRatingMat, pred_mat, condition_fn=recall_cond_fn) )"
   ]
  },
  {
   "cell_type": "markdown",
   "metadata": {
    "collapsed": true
   },
   "source": [
    "<br/>\n",
    "<br/>\n",
    "<br/>\n",
    "## 取出movies embedding, 使用cosine similarity列出最相似的電影"
   ]
  },
  {
   "cell_type": "code",
   "execution_count": 26,
   "metadata": {
    "collapsed": false
   },
   "outputs": [
    {
     "data": {
      "text/html": [
       "\n",
       "          <script src=\"/static/components/requirejs/require.js\"></script>\n",
       "          <script>\n",
       "            requirejs.config({\n",
       "              paths: {\n",
       "                base: '/static/base',\n",
       "              },\n",
       "            });\n",
       "          </script>\n",
       "          "
      ],
      "text/plain": [
       "<IPython.core.display.HTML object>"
      ]
     },
     "metadata": {},
     "output_type": "display_data"
    },
    {
     "data": {
      "text/html": [
       "<div>\n",
       "<table border=\"1\" class=\"dataframe\">\n",
       "  <thead>\n",
       "    <tr style=\"text-align: right;\">\n",
       "      <th></th>\n",
       "      <th>movieId</th>\n",
       "      <th>title</th>\n",
       "      <th>genres</th>\n",
       "    </tr>\n",
       "  </thead>\n",
       "  <tbody>\n",
       "    <tr>\n",
       "      <th>0</th>\n",
       "      <td>0</td>\n",
       "      <td>Toy Story (1995)</td>\n",
       "      <td>Adventure|Animation|Children|Comedy|Fantasy</td>\n",
       "    </tr>\n",
       "    <tr>\n",
       "      <th>1579</th>\n",
       "      <td>1579</td>\n",
       "      <td>Babes in Toyland (1961)</td>\n",
       "      <td>Children|Fantasy|Musical</td>\n",
       "    </tr>\n",
       "    <tr>\n",
       "      <th>1780</th>\n",
       "      <td>1780</td>\n",
       "      <td>Toys (1992)</td>\n",
       "      <td>Comedy|Fantasy</td>\n",
       "    </tr>\n",
       "    <tr>\n",
       "      <th>2479</th>\n",
       "      <td>2479</td>\n",
       "      <td>Babes in Toyland (1934)</td>\n",
       "      <td>Children|Comedy|Fantasy|Musical</td>\n",
       "    </tr>\n",
       "    <tr>\n",
       "      <th>2506</th>\n",
       "      <td>2506</td>\n",
       "      <td>Toy Story 2 (1999)</td>\n",
       "      <td>Adventure|Animation|Children|Comedy|Fantasy</td>\n",
       "    </tr>\n",
       "    <tr>\n",
       "      <th>3829</th>\n",
       "      <td>3829</td>\n",
       "      <td>Toy, The (1982)</td>\n",
       "      <td>Comedy</td>\n",
       "    </tr>\n",
       "    <tr>\n",
       "      <th>4341</th>\n",
       "      <td>4341</td>\n",
       "      <td>Toy Soldiers (1991)</td>\n",
       "      <td>Action|Drama</td>\n",
       "    </tr>\n",
       "    <tr>\n",
       "      <th>7556</th>\n",
       "      <td>7556</td>\n",
       "      <td>Toy Story 3 (2010)</td>\n",
       "      <td>Adventure|Animation|Children|Comedy|Fantasy|IMAX</td>\n",
       "    </tr>\n",
       "    <tr>\n",
       "      <th>8437</th>\n",
       "      <td>8437</td>\n",
       "      <td>Toy Story of Terror (2013)</td>\n",
       "      <td>Animation|Children|Comedy</td>\n",
       "    </tr>\n",
       "  </tbody>\n",
       "</table>\n",
       "</div>"
      ],
      "text/plain": [
       "      movieId                       title  \\\n",
       "0           0            Toy Story (1995)   \n",
       "1579     1579     Babes in Toyland (1961)   \n",
       "1780     1780                 Toys (1992)   \n",
       "2479     2479     Babes in Toyland (1934)   \n",
       "2506     2506          Toy Story 2 (1999)   \n",
       "3829     3829             Toy, The (1982)   \n",
       "4341     4341         Toy Soldiers (1991)   \n",
       "7556     7556          Toy Story 3 (2010)   \n",
       "8437     8437  Toy Story of Terror (2013)   \n",
       "\n",
       "                                                genres  \n",
       "0          Adventure|Animation|Children|Comedy|Fantasy  \n",
       "1579                          Children|Fantasy|Musical  \n",
       "1780                                    Comedy|Fantasy  \n",
       "2479                   Children|Comedy|Fantasy|Musical  \n",
       "2506       Adventure|Animation|Children|Comedy|Fantasy  \n",
       "3829                                            Comedy  \n",
       "4341                                      Action|Drama  \n",
       "7556  Adventure|Animation|Children|Comedy|Fantasy|IMAX  \n",
       "8437                         Animation|Children|Comedy  "
      ]
     },
     "execution_count": 26,
     "metadata": {},
     "output_type": "execute_result"
    }
   ],
   "source": [
    "movies[movies.title.str.contains(\"Toy\")]"
   ]
  },
  {
   "cell_type": "code",
   "execution_count": 25,
   "metadata": {
    "collapsed": false
   },
   "outputs": [
    {
     "data": {
      "text/html": [
       "\n",
       "          <script src=\"/static/components/requirejs/require.js\"></script>\n",
       "          <script>\n",
       "            requirejs.config({\n",
       "              paths: {\n",
       "                base: '/static/base',\n",
       "              },\n",
       "            });\n",
       "          </script>\n",
       "          "
      ],
      "text/plain": [
       "<IPython.core.display.HTML object>"
      ]
     },
     "metadata": {},
     "output_type": "display_data"
    },
    {
     "name": "stdout",
     "output_type": "stream",
     "text": [
      "INFO:tensorflow:Restoring parameters from ./model/model_mf_with_history/model-3\n"
     ]
    },
    {
     "data": {
      "text/html": [
       "<div>\n",
       "<table border=\"1\" class=\"dataframe\">\n",
       "  <thead>\n",
       "    <tr style=\"text-align: right;\">\n",
       "      <th></th>\n",
       "      <th>movieId</th>\n",
       "      <th>title</th>\n",
       "      <th>genres</th>\n",
       "    </tr>\n",
       "  </thead>\n",
       "  <tbody>\n",
       "    <tr>\n",
       "      <th>0</th>\n",
       "      <td>0</td>\n",
       "      <td>Toy Story (1995)</td>\n",
       "      <td>Adventure|Animation|Children|Comedy|Fantasy</td>\n",
       "    </tr>\n",
       "    <tr>\n",
       "      <th>954</th>\n",
       "      <td>954</td>\n",
       "      <td>Princess Bride, The (1987)</td>\n",
       "      <td>Action|Adventure|Comedy|Fantasy|Romance</td>\n",
       "    </tr>\n",
       "    <tr>\n",
       "      <th>1052</th>\n",
       "      <td>1052</td>\n",
       "      <td>Killing Fields, The (1984)</td>\n",
       "      <td>Drama|War</td>\n",
       "    </tr>\n",
       "    <tr>\n",
       "      <th>961</th>\n",
       "      <td>961</td>\n",
       "      <td>Lawrence of Arabia (1962)</td>\n",
       "      <td>Adventure|Drama|War</td>\n",
       "    </tr>\n",
       "    <tr>\n",
       "      <th>321</th>\n",
       "      <td>321</td>\n",
       "      <td>Forrest Gump (1994)</td>\n",
       "      <td>Comedy|Drama|Romance|War</td>\n",
       "    </tr>\n",
       "    <tr>\n",
       "      <th>743</th>\n",
       "      <td>743</td>\n",
       "      <td>Sunset Blvd. (a.k.a. Sunset Boulevard) (1950)</td>\n",
       "      <td>Drama|Film-Noir|Romance</td>\n",
       "    </tr>\n",
       "    <tr>\n",
       "      <th>6706</th>\n",
       "      <td>6706</td>\n",
       "      <td>Once (2006)</td>\n",
       "      <td>Drama|Musical|Romance</td>\n",
       "    </tr>\n",
       "    <tr>\n",
       "      <th>974</th>\n",
       "      <td>974</td>\n",
       "      <td>Killer, The (Die xue shuang xiong) (1989)</td>\n",
       "      <td>Action|Crime|Drama|Thriller</td>\n",
       "    </tr>\n",
       "    <tr>\n",
       "      <th>966</th>\n",
       "      <td>966</td>\n",
       "      <td>Star Wars: Episode VI - Return of the Jedi (1983)</td>\n",
       "      <td>Action|Adventure|Sci-Fi</td>\n",
       "    </tr>\n",
       "    <tr>\n",
       "      <th>2212</th>\n",
       "      <td>2212</td>\n",
       "      <td>Sixth Sense, The (1999)</td>\n",
       "      <td>Drama|Horror|Mystery</td>\n",
       "    </tr>\n",
       "  </tbody>\n",
       "</table>\n",
       "</div>"
      ],
      "text/plain": [
       "      movieId                                              title  \\\n",
       "0           0                                   Toy Story (1995)   \n",
       "954       954                         Princess Bride, The (1987)   \n",
       "1052     1052                         Killing Fields, The (1984)   \n",
       "961       961                          Lawrence of Arabia (1962)   \n",
       "321       321                                Forrest Gump (1994)   \n",
       "743       743      Sunset Blvd. (a.k.a. Sunset Boulevard) (1950)   \n",
       "6706     6706                                        Once (2006)   \n",
       "974       974          Killer, The (Die xue shuang xiong) (1989)   \n",
       "966       966  Star Wars: Episode VI - Return of the Jedi (1983)   \n",
       "2212     2212                            Sixth Sense, The (1999)   \n",
       "\n",
       "                                           genres  \n",
       "0     Adventure|Animation|Children|Comedy|Fantasy  \n",
       "954       Action|Adventure|Comedy|Fantasy|Romance  \n",
       "1052                                    Drama|War  \n",
       "961                           Adventure|Drama|War  \n",
       "321                      Comedy|Drama|Romance|War  \n",
       "743                       Drama|Film-Noir|Romance  \n",
       "6706                        Drama|Musical|Romance  \n",
       "974                   Action|Crime|Drama|Thriller  \n",
       "966                       Action|Adventure|Sci-Fi  \n",
       "2212                         Drama|Horror|Mystery  "
      ]
     },
     "execution_count": 25,
     "metadata": {},
     "output_type": "execute_result"
    }
   ],
   "source": [
    "from sklearn.metrics.pairwise import cosine_similarity, euclidean_distances\n",
    "\n",
    "def most_like(model, seed_movie, k=10):\n",
    "    \"\"\"給定某一部電影, 使用model裡movies embedding找尋cosine相似度高的其他電影!\"\"\"\n",
    "    with tf.Session(graph=model.graph) as sess:\n",
    "        model.ckpt(sess, model.modelDir)\n",
    "        movie_emb = sess.run(model.candidate_emb, feed_dict={model.candidate_movie_id: movies.movieId.values})\n",
    "        \n",
    "    most_like = cosine_similarity(movie_emb[seed_movie][np.newaxis, :], movie_emb).ravel().argsort()[::-1][:k]\n",
    "    return movies.iloc[most_like]\n",
    "\n",
    "most_like(model, 0, k=10)"
   ]
  }
 ],
 "metadata": {
  "anaconda-cloud": {},
  "kernelspec": {
   "display_name": "Python 3",
   "language": "python",
   "name": "python3"
  },
  "language_info": {
   "codemirror_mode": {
    "name": "ipython",
    "version": 3
   },
   "file_extension": ".py",
   "mimetype": "text/x-python",
   "name": "python",
   "nbconvert_exporter": "python",
   "pygments_lexer": "ipython3",
   "version": "3.5.2"
  }
 },
 "nbformat": 4,
 "nbformat_minor": 1
}
