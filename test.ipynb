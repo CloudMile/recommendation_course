{
 "cells": [
  {
   "cell_type": "code",
   "execution_count": 1,
   "metadata": {
    "collapsed": true
   },
   "outputs": [],
   "source": [
    "import tensorflow as tf, numpy as np\n",
    "from matplotlib import pyplot as plt\n",
    "plt.style.use('ggplot')\n",
    "\n",
    "np.set_printoptions(precision=4, suppress=True, linewidth=100)\n",
    "np.random.seed(42)"
   ]
  },
  {
   "cell_type": "markdown",
   "metadata": {},
   "source": [
    "### Tensorflow load model without source code (沒有source code的狀況...)"
   ]
  },
  {
   "cell_type": "code",
   "execution_count": 17,
   "metadata": {},
   "outputs": [
    {
     "name": "stdout",
     "output_type": "stream",
     "text": [
      "INFO:tensorflow:Restoring parameters from ./model/linear\\linear_model-199\n",
      "Tensor(\"inputs/placeholder_x:0\", shape=(?,), dtype=float32)\n"
     ]
    }
   ],
   "source": [
    "model_dir = \"./model/linear\"\n",
    "with tf.Session() as sess:\n",
    "    latestCkpt = tf.train.latest_checkpoint(model_dir)\n",
    "    saver = tf.train.import_meta_graph(latestCkpt + \".meta\")\n",
    "    saver.restore(sess, latestCkpt)\n",
    "    # print( sess.graph.get_tensor_by_name(\"inputs/placeholder_x:0\") )\n",
    "    for n in sess.graph.get_operations():\n",
    "        print(n.name)"
   ]
  },
  {
   "cell_type": "markdown",
   "metadata": {},
   "source": [
    "### Softmax"
   ]
  },
  {
   "cell_type": "code",
   "execution_count": 2,
   "metadata": {
    "scrolled": false
   },
   "outputs": [
    {
     "name": "stdout",
     "output_type": "stream",
     "text": [
      "softmax:  [[ 0.8613  0.0158  0.1166  0.0003  0.0003  0.0058]]\n",
      "labels:  [[1.0, 0.0, 0.0, 0.0, 0.0, 0.0]]\n",
      "\n",
      "cross entropy:  [ 0.1493]\n"
     ]
    }
   ],
   "source": [
    "tf.reset_default_graph()\n",
    "with tf.Graph().as_default():\n",
    "    inputs = tf.constant([[5., 1., 3., -3., -3., 0.]])\n",
    "    labels = [[1., 0., 0., 0., 0., 0.]]\n",
    "    # softmax with cross entropy\n",
    "    result = tf.nn.softmax_cross_entropy_with_logits(logits=inputs, labels=labels)\n",
    "    with tf.Session() as sess:\n",
    "        tf.global_variables_initializer().run()\n",
    "        print(\"softmax: \", tf.nn.softmax(inputs).eval())\n",
    "        print(\"labels: \", labels)\n",
    "        print()\n",
    "        print(\"cross entropy: \", sess.run(result) )"
   ]
  },
  {
   "cell_type": "markdown",
   "metadata": {},
   "source": [
    "### Sigmoid"
   ]
  },
  {
   "cell_type": "code",
   "execution_count": 16,
   "metadata": {},
   "outputs": [
    {
     "name": "stdout",
     "output_type": "stream",
     "text": [
      "sigmoid:  [[ 0.9933  0.7311  0.9526  0.0474  0.0474  0.5   ]]\n",
      "labels:  [[1.0, 0.0, 0.0, 0.0, 0.0, 0.0]]\n",
      "\n",
      "cross entropy:  [[ 0.0067  1.3133  3.0486  0.0486  0.0486  0.6931]]\n"
     ]
    }
   ],
   "source": [
    "tf.reset_default_graph()\n",
    "with tf.Graph().as_default():\n",
    "    inputs = tf.constant([[5., 1., 3., -3., -3., 0.]])\n",
    "    labels = [[1., 0., 0., 0., 0., 0.]]\n",
    "    # sigmoid with cross entropy\n",
    "    result = tf.nn.sigmoid_cross_entropy_with_logits(logits=inputs, labels=labels)\n",
    "    with tf.Session() as sess:\n",
    "        tf.global_variables_initializer().run()\n",
    "        print(\"sigmoid: \", tf.nn.sigmoid(inputs).eval())\n",
    "        print(\"labels: \", labels)\n",
    "        print()\n",
    "        print(\"cross entropy: \", sess.run(result) )"
   ]
  },
  {
   "cell_type": "markdown",
   "metadata": {},
   "source": [
    "### Matrix Operation Example"
   ]
  },
  {
   "cell_type": "code",
   "execution_count": 3,
   "metadata": {},
   "outputs": [
    {
     "name": "stdout",
     "output_type": "stream",
     "text": [
      "[[ 0.982   0.1192]]\n"
     ]
    }
   ],
   "source": [
    "tf.reset_default_graph()\n",
    "with tf.Graph().as_default():\n",
    "    data = tf.constant([[1., -1.]])\n",
    "    w = tf.constant([[ 1., -1.], \n",
    "                     [-2., 1.]])\n",
    "    b = tf.constant([1., 0.])\n",
    "    result = tf.matmul(data, w) + b\n",
    "    sigmoid = tf.nn.sigmoid(result)\n",
    "    with tf.Session() as sess:\n",
    "        tf.global_variables_initializer().run()\n",
    "        print( sess.run(sigmoid) )"
   ]
  },
  {
   "cell_type": "markdown",
   "metadata": {},
   "source": [
    "### Embedding"
   ]
  },
  {
   "cell_type": "code",
   "execution_count": 16,
   "metadata": {},
   "outputs": [
    {
     "name": "stdout",
     "output_type": "stream",
     "text": [
      "[[ 1.  1.  1.]\n",
      " [ 0.  0.  0.]\n",
      " [ 2.  2.  2.]]\n"
     ]
    }
   ],
   "source": [
    "tf.reset_default_graph()\n",
    "with tf.Graph().as_default():\n",
    "    a = tf.constant([1, 0, 2])\n",
    "    embedding = tf.constant([[0., 0., 0.],\n",
    "                             [1., 1., 1.],\n",
    "                             [2., 2., 2.]])\n",
    "    lookup = tf.nn.embedding_lookup(embedding, a)\n",
    "    with tf.Session() as sess:\n",
    "        tf.global_variables_initializer().run()\n",
    "        print( sess.run(lookup) )"
   ]
  },
  {
   "cell_type": "markdown",
   "metadata": {},
   "source": [
    "### MF Predict"
   ]
  },
  {
   "cell_type": "code",
   "execution_count": 4,
   "metadata": {},
   "outputs": [
    {
     "name": "stdout",
     "output_type": "stream",
     "text": [
      "[[ 4.9   6.    2.07  2.97  1.8 ]\n",
      " [ 6.37  7.    3.4   5.07  5.67]\n",
      " [ 7.47  6.28  3.27  2.5   4.8 ]\n",
      " [ 3.4   4.8   4.4   4.27  3.9 ]]\n"
     ]
    }
   ],
   "source": [
    "tf.reset_default_graph()\n",
    "with tf.Graph().as_default():\n",
    "    um = tf.constant([[  3.5,  4.7, 0.87, 1.87,  0.8],\n",
    "                      [ 4.87,  5.6,  2.1, 3.87, 4.57],\n",
    "                      [ 5.87, 4.78, 1.87, 1.2,   3.6],\n",
    "                      [  1.7,  3.2,  2.9, 2.87,  2.6]])\n",
    "    bu = tf.constant([[0.1], [0.2], [0.3], [0.4]])\n",
    "    bm = tf.constant([[0.8, 0.7, 0.6, 0.5, 0.4]])\n",
    "    bg = tf.constant([0.5])\n",
    "    result = um + bu + bm + bg\n",
    "    with tf.Session() as sess:\n",
    "        tf.global_variables_initializer().run()\n",
    "        print( sess.run(result) )"
   ]
  },
  {
   "cell_type": "code",
   "execution_count": null,
   "metadata": {
    "collapsed": true
   },
   "outputs": [],
   "source": []
  }
 ],
 "metadata": {
  "kernelspec": {
   "display_name": "Python 3",
   "language": "python",
   "name": "python3"
  },
  "language_info": {
   "codemirror_mode": {
    "name": "ipython",
    "version": 3
   },
   "file_extension": ".py",
   "mimetype": "text/x-python",
   "name": "python",
   "nbconvert_exporter": "python",
   "pygments_lexer": "ipython3",
   "version": "3.5.3"
  }
 },
 "nbformat": 4,
 "nbformat_minor": 2
}
