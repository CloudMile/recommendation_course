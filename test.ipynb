{
 "cells": [
  {
   "cell_type": "code",
   "execution_count": 1,
   "metadata": {
    "collapsed": true
   },
   "outputs": [],
   "source": [
    "%matplotlib inline\n",
    "import tensorflow as tf, numpy as np\n",
    "from matplotlib import pyplot as plt\n",
    "plt.style.use('ggplot')\n",
    "\n",
    "np.set_printoptions(precision=4, suppress=True, linewidth=100)\n",
    "np.random.seed(42)"
   ]
  },
  {
   "cell_type": "markdown",
   "metadata": {},
   "source": [
    "### Softmax"
   ]
  },
  {
   "cell_type": "code",
   "execution_count": 11,
   "metadata": {
    "scrolled": false
   },
   "outputs": [
    {
     "name": "stdout",
     "output_type": "stream",
     "text": [
      "[[ 0.8613  0.0158  0.1166  0.0003  0.0003  0.0058]]\n",
      "[ 0.1493]\n"
     ]
    }
   ],
   "source": [
    "tf.reset_default_graph()\n",
    "with tf.Graph().as_default():\n",
    "    a = tf.constant([[5., 1., 3., -3., -3., 0.]])\n",
    "    # softmax with cross entropy\n",
    "    result = tf.nn.softmax_cross_entropy_with_logits(logits=a, labels=[[1., 0., 0., 0., 0., 0]])\n",
    "    with tf.Session() as sess:\n",
    "        tf.global_variables_initializer().run()\n",
    "        print(tf.nn.softmax(a).eval())\n",
    "        print( sess.run(result) )"
   ]
  },
  {
   "cell_type": "markdown",
   "metadata": {},
   "source": [
    "### Sigmoid"
   ]
  },
  {
   "cell_type": "code",
   "execution_count": 13,
   "metadata": {},
   "outputs": [
    {
     "name": "stdout",
     "output_type": "stream",
     "text": [
      "[[ 0.9933  0.7311  0.9526  0.0474  0.0474  0.5   ]]\n",
      "[[ 0.0067  1.3133  3.0486  0.0486  0.0486  0.6931]]\n"
     ]
    }
   ],
   "source": [
    "tf.reset_default_graph()\n",
    "with tf.Graph().as_default():\n",
    "    a = tf.constant([[5., 1., 3., -3., -3., 0.]])\n",
    "    # softmax with cross entropy\n",
    "    result = tf.nn.sigmoid_cross_entropy_with_logits(logits=a, labels=[[1., 0., 0., 0., 0., 0]])\n",
    "    with tf.Session() as sess:\n",
    "        tf.global_variables_initializer().run()\n",
    "        print(tf.nn.sigmoid(a).eval())\n",
    "        print( sess.run(result) )"
   ]
  },
  {
   "cell_type": "markdown",
   "metadata": {},
   "source": [
    "### Embedding"
   ]
  },
  {
   "cell_type": "code",
   "execution_count": 16,
   "metadata": {},
   "outputs": [
    {
     "name": "stdout",
     "output_type": "stream",
     "text": [
      "[[ 1.  1.  1.]\n",
      " [ 0.  0.  0.]\n",
      " [ 2.  2.  2.]]\n"
     ]
    }
   ],
   "source": [
    "tf.reset_default_graph()\n",
    "with tf.Graph().as_default():\n",
    "    a = tf.constant([1, 0, 2])\n",
    "    embedding = tf.constant([[0., 0., 0.],\n",
    "                             [1., 1., 1.],\n",
    "                             [2., 2., 2.]])\n",
    "    lookup = tf.nn.embedding_lookup(embedding, a)\n",
    "    with tf.Session() as sess:\n",
    "        tf.global_variables_initializer().run()\n",
    "        print( sess.run(lookup) )"
   ]
  }
 ],
 "metadata": {
  "kernelspec": {
   "display_name": "Python 3",
   "language": "python",
   "name": "python3"
  },
  "language_info": {
   "codemirror_mode": {
    "name": "ipython",
    "version": 3
   },
   "file_extension": ".py",
   "mimetype": "text/x-python",
   "name": "python",
   "nbconvert_exporter": "python",
   "pygments_lexer": "ipython3",
   "version": "3.5.3"
  }
 },
 "nbformat": 4,
 "nbformat_minor": 2
}
