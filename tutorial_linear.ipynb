{
 "cells": [
  {
   "cell_type": "code",
   "execution_count": null,
   "metadata": {
    "collapsed": false
   },
   "outputs": [],
   "source": [
    "import tensorflow as tf, numpy as np, matplotlib.pyplot as plt\n",
    "plt.style.use('ggplot')"
   ]
  },
  {
   "cell_type": "markdown",
   "metadata": {},
   "source": [
    "## Difference Between Tensor and Python Variable"
   ]
  },
  {
   "cell_type": "code",
   "execution_count": null,
   "metadata": {
    "collapsed": false
   },
   "outputs": [],
   "source": [
    "var = 1.\n",
    "print(\"python variable: \", var)\n",
    "print()\n",
    "\n",
    "var_tensor = tf.constant(1.)\n",
    "print(\"tensor: \", var_tensor)"
   ]
  },
  {
   "cell_type": "code",
   "execution_count": null,
   "metadata": {
    "collapsed": false
   },
   "outputs": [],
   "source": [
    "with tf.Session() as sess:\n",
    "    print(\"透過tensorflow session取得tensor value: \", sess.run(var_tensor))"
   ]
  },
  {
   "cell_type": "markdown",
   "metadata": {},
   "source": [
    "<br/>\n",
    "<br/>\n",
    "<br/>\n",
    "## Simple Regression Example\n",
    "- Formula: $ Y = 0.5X + 0.3 $"
   ]
  },
  {
   "cell_type": "code",
   "execution_count": null,
   "metadata": {
    "collapsed": false
   },
   "outputs": [],
   "source": [
    "formula = lambda x: 0.5 * x + 0.3\n",
    "data_x = np.linspace(0, 1, 100)\n",
    "plt.plot(data_x, formula(data_x))\n",
    "plt.show()"
   ]
  },
  {
   "cell_type": "code",
   "execution_count": null,
   "metadata": {
    "codeCollapsed": false,
    "collapsed": false,
    "hiddenCell": false,
    "scrolled": true
   },
   "outputs": [],
   "source": [
    "import tensorflow as tf, numpy as np\n",
    "\n",
    "n_epoch = 200\n",
    "learning_rate = 0.5\n",
    "\n",
    "outerX = np.random.random(10000)\n",
    "outerY = 0.5 * outerX + 0.3\n",
    "outerX, outerY\n",
    "\n",
    "model_dir = \"./model/linear\"\n",
    "\n",
    "tf.reset_default_graph()\n",
    "g = tf.Graph()\n",
    "with g.as_default():\n",
    "    with tf.variable_scope(\"inputs\"):\n",
    "        # 接收 outerX data\n",
    "        placeholderX = tf.placeholder(tf.float32, shape=[None], name=\"placeholder_x\")\n",
    "        # 接收 outerY data\n",
    "        placeholderY = tf.placeholder(tf.float32, shape=[None], name=\"placeholder_y\")\n",
    "        \n",
    "    with tf.variable_scope(\"formula\"):\n",
    "        varW = tf.Variable(tf.random_uniform(shape=[1]), tf.float32, name=\"var_w\")\n",
    "        varB = tf.Variable(tf.random_uniform(shape=[1]), tf.float32, name=\"var_b\")\n",
    "        # 公式 0.5X + 0.3, 期望varW會慢慢逼近0.5, varB會慢慢逼近0.3\n",
    "        varY = varW * placeholderX + varB\n",
    "        # tensorboard weights logs\n",
    "        tf.summary.histogram(\"varW\", varW)\n",
    "        tf.summary.histogram(\"varB\", varB)\n",
    "    # mean square error\n",
    "    loss = tf.losses.mean_squared_error(placeholderY, varY)\n",
    "    # tensorboard weights logs\n",
    "    tf.summary.scalar(\"loss\", loss)\n",
    "    # 使用 GradientDescentOptimizer\n",
    "    optimizer = tf.train.GradientDescentOptimizer(learning_rate=learning_rate)\n",
    "    # 最小化 loss, 此時會 backpropagation 去調整 varW, varB的值\n",
    "    trainer = optimizer.minimize(loss)\n",
    "    merge = tf.summary.merge_all()\n",
    "    \n",
    "    with tf.Session(graph=g) as sess:\n",
    "        w = tf.summary.FileWriter(\"./model/linear\", sess.graph)\n",
    "        init = tf.global_variables_initializer()\n",
    "        sess.run(init)\n",
    "        for i in range(n_epoch):\n",
    "            _, w_, b_ = sess.run([trainer, varW, varB], feed_dict={placeholderX: outerX, placeholderY: outerY})\n",
    "            print('step: {} varW: {}, varB: {}'.format(i, w_, b_) )\n",
    "            if (i + 1) % 20 == 0:\n",
    "                merge_ = sess.run(merge, feed_dict={placeholderX: outerX, placeholderY: outerY})\n",
    "                w.add_summary(merge_, i)"
   ]
  },
  {
   "cell_type": "markdown",
   "metadata": {},
   "source": [
    "## Check Tensorboard"
   ]
  },
  {
   "cell_type": "code",
   "execution_count": null,
   "metadata": {
    "collapsed": false
   },
   "outputs": [],
   "source": [
    "from google.datalab.ml import TensorBoard\n",
    "\n",
    "tb = TensorBoard()\n",
    "# stop prev built tensorboard pid\n",
    "for _, r in tb.list().iterrows(): tb.stop(r.pid)\n",
    "\n",
    "tb.start(model_dir)\n",
    "tb.list()"
   ]
  },
  {
   "cell_type": "markdown",
   "metadata": {},
   "source": [
    "## Stop Tensorboard"
   ]
  },
  {
   "cell_type": "code",
   "execution_count": null,
   "metadata": {
    "collapsed": false
   },
   "outputs": [],
   "source": [
    "for _, r in TensorBoard().list().iterrows(): tb.stop(r.pid)"
   ]
  },
  {
   "cell_type": "markdown",
   "metadata": {},
   "source": [
    "<br/>\n",
    "<br/>\n",
    "<br/>\n",
    "<br/>\n",
    "<br/>\n",
    "## Model Save and Load"
   ]
  },
  {
   "cell_type": "code",
   "execution_count": null,
   "metadata": {
    "collapsed": false,
    "scrolled": true
   },
   "outputs": [],
   "source": [
    "import tensorflow as tf, numpy as np\n",
    "\n",
    "class LinearModel(object):\n",
    "    def __init__(self):\n",
    "        \"\"\"Init graph\"\"\"\n",
    "        tf.reset_default_graph()\n",
    "        self.graph = tf.Graph()\n",
    "        with self.graph.as_default():\n",
    "            with tf.variable_scope(\"inputs\"):\n",
    "                # 接收 outerX data\n",
    "                self.placeholderX = tf.placeholder(tf.float32, shape=[None], name=\"placeholder_x\")\n",
    "                # 接收 outerY data\n",
    "                self.placeholderY = tf.placeholder(tf.float32, shape=[None], name=\"placeholder_y\")\n",
    "\n",
    "            with tf.variable_scope(\"formula\"):\n",
    "                self.varW = tf.Variable(tf.random_uniform(shape=[1]), tf.float32, name=\"var_w\")\n",
    "                self.varB = tf.Variable(tf.random_uniform(shape=[1]), tf.float32, name=\"var_b\")\n",
    "                self.varY = self.varW * self.placeholderX + self.varB\n",
    "                # tensorboard weights logs\n",
    "                tf.summary.histogram(\"varW\", self.varW)\n",
    "                tf.summary.histogram(\"varB\", self.varB)\n",
    "            # 均方誤差\n",
    "            self.loss = tf.losses.mean_squared_error(self.placeholderY, self.varY)\n",
    "            # tensorboard weights logs\n",
    "            tf.summary.scalar(\"loss\", self.loss)\n",
    "            # 使用 AdamOptimizer\n",
    "            self.optimizer = tf.train.GradientDescentOptimizer(learning_rate=learning_rate)\n",
    "            # 最小化 loss, 此時會 backpropagation 去調整 varW, varB的值\n",
    "            self.trainer = self.optimizer.minimize(self.loss)\n",
    "            self.merge = tf.summary.merge_all()\n",
    "            # 儲存物件\n",
    "            self.saver = tf.train.Saver(tf.global_variables())\n",
    "            \n",
    "    def load_weight(self, sess, model_dir):\n",
    "        \"\"\"load latest saved model\"\"\"\n",
    "        latestCkpt = tf.train.latest_checkpoint(model_dir)\n",
    "        if latestCkpt:\n",
    "            self.saver.restore(sess, latestCkpt)\n",
    "            print(\"load weight success!\")\n",
    "        return latestCkpt"
   ]
  },
  {
   "cell_type": "markdown",
   "metadata": {},
   "source": [
    "## Save Model"
   ]
  },
  {
   "cell_type": "code",
   "execution_count": null,
   "metadata": {
    "collapsed": false,
    "scrolled": true
   },
   "outputs": [],
   "source": [
    "n_epoch = 200\n",
    "learning_rate = 0.5\n",
    "\n",
    "outerX = np.random.random(10000)\n",
    "outerY = 0.5 * outerX + 0.3\n",
    "outerX, outerY\n",
    "\n",
    "model_dir = \"./model/linear\"\n",
    "\n",
    "model = LinearModel()\n",
    "with tf.Session(graph=model.graph) as sess:\n",
    "    w = tf.summary.FileWriter(model_dir, sess.graph)\n",
    "    init = tf.global_variables_initializer()\n",
    "    sess.run(init)\n",
    "    for i in range(n_epoch):\n",
    "        _, w_, b_ = sess.run([model.trainer, model.varW, model.varB], feed_dict={model.placeholderX: outerX, model.placeholderY: outerY})\n",
    "        print('step: {} varW: {}, varB: {}'.format(i, w_, b_) )\n",
    "        if (i + 1) % 50 == 0:\n",
    "            merge_ = sess.run(model.merge, feed_dict={model.placeholderX: outerX, model.placeholderY: outerY})\n",
    "            w.add_summary(merge_, i)\n",
    "            \n",
    "        if (i + 1) % 50 == 0:\n",
    "            ''' Save model '''\n",
    "            model.saver.save(sess, save_path=model_dir + \"/linear_model\", global_step=i)"
   ]
  },
  {
   "cell_type": "markdown",
   "metadata": {},
   "source": [
    "## Load Model"
   ]
  },
  {
   "cell_type": "code",
   "execution_count": null,
   "metadata": {
    "collapsed": false
   },
   "outputs": [],
   "source": [
    "import matplotlib.pyplot as plt\n",
    "plt.style.use('ggplot')\n",
    "\n",
    "model_dir = \"./model/linear\"\n",
    "data_x = np.random.random(100)\n",
    "\n",
    "model = LinearModel()\n",
    "with tf.Session(graph=model.graph) as sess:\n",
    "    sess.run(tf.global_variables_initializer())\n",
    "    ''' load pre-trained weight into model '''\n",
    "    model.load_weight(sess, model_dir)\n",
    "    ''' ################################## '''\n",
    "    \n",
    "    y = sess.run(model.varY, feed_dict={model.placeholderX: data_x})\n",
    "    \n",
    "    ans_y = lambda x: 0.5 * x + 0.3\n",
    "    f, ax = plt.subplots()\n",
    "    plt.scatter(data_x, y, label=\"predict\", color=\"b\", linewidth=5, alpha=0.5)\n",
    "    plt.scatter(data_x, ans_y(data_x), label=\"truth\", color=\"g\")\n",
    "    plt.legend(loc=\"best\")\n",
    "    plt.show()"
   ]
  },
  {
   "cell_type": "markdown",
   "metadata": {},
   "source": [
    "## Observations\n",
    "1. 上圖可知, 預測的答案跟實際答案是重疊的, 代表Model load success"
   ]
  }
 ],
 "metadata": {
  "kernelspec": {
   "display_name": "Python 3",
   "language": "python",
   "name": "python3"
  },
  "language_info": {
   "codemirror_mode": {
    "name": "ipython",
    "version": 3
   },
   "file_extension": ".py",
   "mimetype": "text/x-python",
   "name": "python",
   "nbconvert_exporter": "python",
   "pygments_lexer": "ipython3",
   "version": "3.5.2"
  }
 },
 "nbformat": 4,
 "nbformat_minor": 2
}
