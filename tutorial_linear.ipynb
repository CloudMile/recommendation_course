{
 "cells": [
  {
   "cell_type": "code",
   "execution_count": 1,
   "metadata": {
    "collapsed": false
   },
   "outputs": [
    {
     "data": {
      "text/html": [
       "\n",
       "          <script src=\"/static/components/requirejs/require.js\"></script>\n",
       "          <script>\n",
       "            requirejs.config({\n",
       "              paths: {\n",
       "                base: '/static/base',\n",
       "              },\n",
       "            });\n",
       "          </script>\n",
       "          "
      ],
      "text/plain": [
       "<IPython.core.display.HTML object>"
      ]
     },
     "metadata": {},
     "output_type": "display_data"
    }
   ],
   "source": [
    "import tensorflow as tf, numpy as np, matplotlib.pyplot as plt\n",
    "plt.style.use('ggplot')"
   ]
  },
  {
   "cell_type": "markdown",
   "metadata": {},
   "source": [
    "## Difference Between Tensor and Python Variable"
   ]
  },
  {
   "cell_type": "code",
   "execution_count": 3,
   "metadata": {
    "collapsed": false
   },
   "outputs": [
    {
     "data": {
      "text/html": [
       "\n",
       "          <script src=\"/static/components/requirejs/require.js\"></script>\n",
       "          <script>\n",
       "            requirejs.config({\n",
       "              paths: {\n",
       "                base: '/static/base',\n",
       "              },\n",
       "            });\n",
       "          </script>\n",
       "          "
      ],
      "text/plain": [
       "<IPython.core.display.HTML object>"
      ]
     },
     "metadata": {},
     "output_type": "display_data"
    },
    {
     "name": "stdout",
     "output_type": "stream",
     "text": [
      "python variable:  1.0\n",
      "\n",
      "tensor:  Tensor(\"Const:0\", shape=(), dtype=float32)\n"
     ]
    }
   ],
   "source": [
    "var = 1.\n",
    "print(\"python variable: \", var)\n",
    "print()\n",
    "\n",
    "var_tensor = tf.constant(1.)\n",
    "print(\"tensor: \", var_tensor)"
   ]
  },
  {
   "cell_type": "code",
   "execution_count": 4,
   "metadata": {
    "collapsed": false
   },
   "outputs": [
    {
     "data": {
      "text/html": [
       "\n",
       "          <script src=\"/static/components/requirejs/require.js\"></script>\n",
       "          <script>\n",
       "            requirejs.config({\n",
       "              paths: {\n",
       "                base: '/static/base',\n",
       "              },\n",
       "            });\n",
       "          </script>\n",
       "          "
      ],
      "text/plain": [
       "<IPython.core.display.HTML object>"
      ]
     },
     "metadata": {},
     "output_type": "display_data"
    },
    {
     "name": "stdout",
     "output_type": "stream",
     "text": [
      "透過tensorflow session取得tensor value:  1.0\n"
     ]
    }
   ],
   "source": [
    "with tf.Session() as sess:\n",
    "    print(\"透過tensorflow session取得tensor value: \", sess.run(var_tensor))"
   ]
  },
  {
   "cell_type": "markdown",
   "metadata": {},
   "source": [
    "<br/>\n",
    "<br/>\n",
    "<br/>\n",
    "## Simple Regression Example\n",
    "- Formula: $ Y = 0.5X + 0.3 $"
   ]
  },
  {
   "cell_type": "code",
   "execution_count": 5,
   "metadata": {
    "collapsed": false
   },
   "outputs": [
    {
     "data": {
      "text/html": [
       "\n",
       "          <script src=\"/static/components/requirejs/require.js\"></script>\n",
       "          <script>\n",
       "            requirejs.config({\n",
       "              paths: {\n",
       "                base: '/static/base',\n",
       "              },\n",
       "            });\n",
       "          </script>\n",
       "          "
      ],
      "text/plain": [
       "<IPython.core.display.HTML object>"
      ]
     },
     "metadata": {},
     "output_type": "display_data"
    },
    {
     "data": {
      "image/png": "[encoded data removed]",
      "text/plain": [
       "<matplotlib.figure.Figure at 0x7f08f58b4cc0>"
      ]
     },
     "metadata": {},
     "output_type": "display_data"
    }
   ],
   "source": [
    "formula = lambda x: 0.5 * x + 0.3\n",
    "data_x = np.linspace(0, 1, 100)\n",
    "plt.plot(data_x, formula(data_x)) # np.random.normal(0., 0.01, len(data_x)), linewidths=1\n",
    "plt.show()"
   ]
  },
  {
   "cell_type": "code",
   "execution_count": 6,
   "metadata": {
    "collapsed": false,
    "scrolled": true
   },
   "outputs": [
    {
     "data": {
      "text/html": [
       "\n",
       "          <script src=\"/static/components/requirejs/require.js\"></script>\n",
       "          <script>\n",
       "            requirejs.config({\n",
       "              paths: {\n",
       "                base: '/static/base',\n",
       "              },\n",
       "            });\n",
       "          </script>\n",
       "          "
      ],
      "text/plain": [
       "<IPython.core.display.HTML object>"
      ]
     },
     "metadata": {},
     "output_type": "display_data"
    },
    {
     "name": "stdout",
     "output_type": "stream",
     "text": [
      "step: 0 varW: [ 0.8238861], varB: [ 0.11188183]\n",
      "step: 1 varW: [ 0.80947953], varB: [ 0.13649985]\n",
      "step: 2 varW: [ 0.78751045], varB: [ 0.14377239]\n",
      "step: 3 varW: [ 0.76928866], varB: [ 0.15486255]\n",
      "step: 4 varW: [ 0.7516216], varB: [ 0.16406105]\n",
      "step: 5 varW: [ 0.73527688], varB: [ 0.1729795]\n",
      "step: 6 varW: [ 0.71994936], varB: [ 0.18123046]\n",
      "step: 7 varW: [ 0.70563251], varB: [ 0.1889679]\n",
      "step: 8 varW: [ 0.69224429], varB: [ 0.19619516]\n",
      "step: 9 varW: [ 0.67972863], varB: [ 0.20295362]\n",
      "step: 10 varW: [ 0.66802752], varB: [ 0.20927162]\n",
      "step: 11 varW: [ 0.65708828], varB: [ 0.21517843]\n",
      "step: 12 varW: [ 0.6468612], varB: [ 0.22070065]\n",
      "step: 13 varW: [ 0.63729995], varB: [ 0.22586335]\n",
      "step: 14 varW: [ 0.62836117], varB: [ 0.23068994]\n",
      "step: 15 varW: [ 0.62000436], varB: [ 0.23520231]\n",
      "step: 16 varW: [ 0.61219156], varB: [ 0.23942089]\n",
      "step: 17 varW: [ 0.60488743], varB: [ 0.24336486]\n",
      "step: 18 varW: [ 0.59805882], varB: [ 0.24705203]\n",
      "step: 19 varW: [ 0.5916748], varB: [ 0.25049916]\n",
      "step: 20 varW: [ 0.58570641], varB: [ 0.25372186]\n",
      "step: 21 varW: [ 0.58012658], varB: [ 0.25673476]\n",
      "step: 22 varW: [ 0.57491004], varB: [ 0.2595515]\n",
      "step: 23 varW: [ 0.57003307], varB: [ 0.26218483]\n",
      "step: 24 varW: [ 0.56547368], varB: [ 0.26464677]\n",
      "step: 25 varW: [ 0.56121105], varB: [ 0.2669484]\n",
      "step: 26 varW: [ 0.55722594], varB: [ 0.26910019]\n",
      "step: 27 varW: [ 0.55350029], varB: [ 0.27111191]\n",
      "step: 28 varW: [ 0.55001724], varB: [ 0.27299264]\n",
      "step: 29 varW: [ 0.54676092], varB: [ 0.27475092]\n",
      "step: 30 varW: [ 0.54371661], varB: [ 0.27639472]\n",
      "step: 31 varW: [ 0.54087049], varB: [ 0.27793151]\n",
      "step: 32 varW: [ 0.53820968], varB: [ 0.27936828]\n",
      "step: 33 varW: [ 0.53572208], varB: [ 0.28071147]\n",
      "step: 34 varW: [ 0.53339642], varB: [ 0.28196722]\n",
      "step: 35 varW: [ 0.53122216], varB: [ 0.28314123]\n",
      "step: 36 varW: [ 0.52918947], varB: [ 0.28423882]\n",
      "step: 37 varW: [ 0.52728909], varB: [ 0.28526494]\n",
      "step: 38 varW: [ 0.52551246], varB: [ 0.28622425]\n",
      "step: 39 varW: [ 0.52385151], varB: [ 0.28712112]\n",
      "step: 40 varW: [ 0.52229869], varB: [ 0.28795958]\n",
      "step: 41 varW: [ 0.52084696], varB: [ 0.28874344]\n",
      "step: 42 varW: [ 0.51948977], varB: [ 0.28947631]\n",
      "step: 43 varW: [ 0.5182209], varB: [ 0.29016143]\n",
      "step: 44 varW: [ 0.51703465], varB: [ 0.29080194]\n",
      "step: 45 varW: [ 0.51592565], varB: [ 0.29140079]\n",
      "step: 46 varW: [ 0.51488882], varB: [ 0.29196063]\n",
      "step: 47 varW: [ 0.51391947], varB: [ 0.29248402]\n",
      "step: 48 varW: [ 0.51301324], varB: [ 0.29297334]\n",
      "step: 49 varW: [ 0.51216602], varB: [ 0.29343081]\n",
      "step: 50 varW: [ 0.511374], varB: [ 0.2938585]\n",
      "step: 51 varW: [ 0.51063347], varB: [ 0.29425833]\n",
      "step: 52 varW: [ 0.50994122], varB: [ 0.29463214]\n",
      "step: 53 varW: [ 0.50929397], varB: [ 0.2949816]\n",
      "step: 54 varW: [ 0.50868893], varB: [ 0.29530832]\n",
      "step: 55 varW: [ 0.50812322], varB: [ 0.29561377]\n",
      "step: 56 varW: [ 0.50759435], varB: [ 0.29589933]\n",
      "step: 57 varW: [ 0.50709993], varB: [ 0.29616633]\n",
      "step: 58 varW: [ 0.50663769], varB: [ 0.2964159]\n",
      "step: 59 varW: [ 0.50620556], varB: [ 0.29664925]\n",
      "step: 60 varW: [ 0.50580156], varB: [ 0.2968674]\n",
      "step: 61 varW: [ 0.50542384], varB: [ 0.29707134]\n",
      "step: 62 varW: [ 0.50507075], varB: [ 0.29726201]\n",
      "step: 63 varW: [ 0.5047406], varB: [ 0.29744026]\n",
      "step: 64 varW: [ 0.50443196], varB: [ 0.29760692]\n",
      "step: 65 varW: [ 0.50414342], varB: [ 0.29776272]\n",
      "step: 66 varW: [ 0.50387365], varB: [ 0.29790837]\n",
      "step: 67 varW: [ 0.50362146], varB: [ 0.29804456]\n",
      "step: 68 varW: [ 0.50338566], varB: [ 0.29817185]\n",
      "step: 69 varW: [ 0.50316525], varB: [ 0.29829088]\n",
      "step: 70 varW: [ 0.50295919], varB: [ 0.29840216]\n",
      "step: 71 varW: [ 0.50276655], varB: [ 0.29850617]\n",
      "step: 72 varW: [ 0.50258642], varB: [ 0.29860342]\n",
      "step: 73 varW: [ 0.50241804], varB: [ 0.29869434]\n",
      "step: 74 varW: [ 0.50226063], varB: [ 0.29877937]\n",
      "step: 75 varW: [ 0.50211346], varB: [ 0.29885882]\n",
      "step: 76 varW: [ 0.50197583], varB: [ 0.29893312]\n",
      "step: 77 varW: [ 0.50184721], varB: [ 0.29900259]\n",
      "step: 78 varW: [ 0.50172693], varB: [ 0.29906753]\n",
      "step: 79 varW: [ 0.50161451], varB: [ 0.29912823]\n",
      "step: 80 varW: [ 0.50150937], varB: [ 0.29918498]\n",
      "step: 81 varW: [ 0.50141114], varB: [ 0.29923806]\n",
      "step: 82 varW: [ 0.50131929], varB: [ 0.29928765]\n",
      "step: 83 varW: [ 0.5012334], varB: [ 0.29933402]\n",
      "step: 84 varW: [ 0.50115311], varB: [ 0.29937738]\n",
      "step: 85 varW: [ 0.50107801], varB: [ 0.29941791]\n",
      "step: 86 varW: [ 0.50100785], varB: [ 0.29945582]\n",
      "step: 87 varW: [ 0.50094223], varB: [ 0.29949123]\n",
      "step: 88 varW: [ 0.5008809], varB: [ 0.29952437]\n",
      "step: 89 varW: [ 0.50082356], varB: [ 0.29955533]\n",
      "step: 90 varW: [ 0.50076991], varB: [ 0.29958427]\n",
      "step: 91 varW: [ 0.50071979], varB: [ 0.29961133]\n",
      "step: 92 varW: [ 0.50067294], varB: [ 0.29963663]\n",
      "step: 93 varW: [ 0.50062913], varB: [ 0.2996603]\n",
      "step: 94 varW: [ 0.50058818], varB: [ 0.29968241]\n",
      "step: 95 varW: [ 0.50054991], varB: [ 0.29970309]\n",
      "step: 96 varW: [ 0.50051409], varB: [ 0.2997224]\n",
      "step: 97 varW: [ 0.50048065], varB: [ 0.29974049]\n",
      "step: 98 varW: [ 0.50044936], varB: [ 0.29975736]\n",
      "step: 99 varW: [ 0.50042009], varB: [ 0.29977316]\n",
      "step: 100 varW: [ 0.50039274], varB: [ 0.29978794]\n",
      "step: 101 varW: [ 0.50036716], varB: [ 0.29980174]\n",
      "step: 102 varW: [ 0.50034326], varB: [ 0.29981464]\n",
      "step: 103 varW: [ 0.50032091], varB: [ 0.29982671]\n",
      "step: 104 varW: [ 0.50030005], varB: [ 0.29983801]\n",
      "step: 105 varW: [ 0.5002805], varB: [ 0.29984853]\n",
      "step: 106 varW: [ 0.50026226], varB: [ 0.29985839]\n",
      "step: 107 varW: [ 0.50024521], varB: [ 0.2998676]\n",
      "step: 108 varW: [ 0.50022924], varB: [ 0.29987621]\n",
      "step: 109 varW: [ 0.50021434], varB: [ 0.29988429]\n",
      "step: 110 varW: [ 0.50020039], varB: [ 0.2998918]\n",
      "step: 111 varW: [ 0.50018734], varB: [ 0.29989883]\n",
      "step: 112 varW: [ 0.50017512], varB: [ 0.29990542]\n",
      "step: 113 varW: [ 0.50016373], varB: [ 0.29991159]\n",
      "step: 114 varW: [ 0.50015306], varB: [ 0.29991734]\n",
      "step: 115 varW: [ 0.50014311], varB: [ 0.29992273]\n",
      "step: 116 varW: [ 0.50013381], varB: [ 0.29992777]\n",
      "step: 117 varW: [ 0.50012511], varB: [ 0.29993245]\n",
      "step: 118 varW: [ 0.50011694], varB: [ 0.29993683]\n",
      "step: 119 varW: [ 0.50010931], varB: [ 0.29994097]\n",
      "step: 120 varW: [ 0.50010222], varB: [ 0.29994482]\n",
      "step: 121 varW: [ 0.50009555], varB: [ 0.29994839]\n",
      "step: 122 varW: [ 0.50008935], varB: [ 0.29995176]\n",
      "step: 123 varW: [ 0.50008351], varB: [ 0.29995489]\n",
      "step: 124 varW: [ 0.50007808], varB: [ 0.29995784]\n",
      "step: 125 varW: [ 0.50007302], varB: [ 0.29996058]\n",
      "step: 126 varW: [ 0.50006825], varB: [ 0.29996315]\n",
      "step: 127 varW: [ 0.50006378], varB: [ 0.29996556]\n",
      "step: 128 varW: [ 0.5000596], varB: [ 0.2999678]\n",
      "step: 129 varW: [ 0.50005573], varB: [ 0.29996991]\n",
      "step: 130 varW: [ 0.50005209], varB: [ 0.29997188]\n",
      "step: 131 varW: [ 0.5000487], varB: [ 0.2999737]\n",
      "step: 132 varW: [ 0.50004554], varB: [ 0.29997543]\n",
      "step: 133 varW: [ 0.50004256], varB: [ 0.299977]\n",
      "step: 134 varW: [ 0.50003982], varB: [ 0.29997852]\n",
      "step: 135 varW: [ 0.50003719], varB: [ 0.2999799]\n",
      "step: 136 varW: [ 0.50003481], varB: [ 0.29998124]\n",
      "step: 137 varW: [ 0.50003254], varB: [ 0.29998243]\n",
      "step: 138 varW: [ 0.5000304], varB: [ 0.29998356]\n",
      "step: 139 varW: [ 0.50002843], varB: [ 0.29998466]\n",
      "step: 140 varW: [ 0.50002658], varB: [ 0.29998565]\n",
      "step: 141 varW: [ 0.50002486], varB: [ 0.29998657]\n",
      "step: 142 varW: [ 0.50002325], varB: [ 0.29998747]\n",
      "step: 143 varW: [ 0.5000217], varB: [ 0.29998827]\n",
      "step: 144 varW: [ 0.50002027], varB: [ 0.29998904]\n",
      "step: 145 varW: [ 0.50001895], varB: [ 0.29998976]\n",
      "step: 146 varW: [ 0.5000177], varB: [ 0.29999045]\n",
      "step: 147 varW: [ 0.50001657], varB: [ 0.29999107]\n",
      "step: 148 varW: [ 0.5000155], varB: [ 0.29999164]\n",
      "step: 149 varW: [ 0.50001448], varB: [ 0.29999217]\n",
      "step: 150 varW: [ 0.50001353], varB: [ 0.29999268]\n",
      "step: 151 varW: [ 0.50001264], varB: [ 0.29999316]\n",
      "step: 152 varW: [ 0.5000118], varB: [ 0.29999363]\n",
      "step: 153 varW: [ 0.50001103], varB: [ 0.29999405]\n",
      "step: 154 varW: [ 0.50001031], varB: [ 0.29999444]\n",
      "step: 155 varW: [ 0.50000966], varB: [ 0.2999948]\n",
      "step: 156 varW: [ 0.500009], varB: [ 0.29999512]\n",
      "step: 157 varW: [ 0.5000084], varB: [ 0.29999545]\n",
      "step: 158 varW: [ 0.50000787], varB: [ 0.29999575]\n",
      "step: 159 varW: [ 0.50000733], varB: [ 0.29999602]\n",
      "step: 160 varW: [ 0.50000685], varB: [ 0.29999629]\n",
      "step: 161 varW: [ 0.50000644], varB: [ 0.29999655]\n",
      "step: 162 varW: [ 0.50000602], varB: [ 0.29999676]\n",
      "step: 163 varW: [ 0.5000056], varB: [ 0.29999697]\n",
      "step: 164 varW: [ 0.50000525], varB: [ 0.29999718]\n",
      "step: 165 varW: [ 0.50000489], varB: [ 0.29999736]\n",
      "step: 166 varW: [ 0.50000459], varB: [ 0.29999754]\n",
      "step: 167 varW: [ 0.50000429], varB: [ 0.29999769]\n",
      "step: 168 varW: [ 0.50000399], varB: [ 0.29999784]\n",
      "step: 169 varW: [ 0.50000376], varB: [ 0.29999799]\n",
      "step: 170 varW: [ 0.50000352], varB: [ 0.2999981]\n",
      "step: 171 varW: [ 0.50000328], varB: [ 0.29999822]\n",
      "step: 172 varW: [ 0.50000304], varB: [ 0.29999834]\n",
      "step: 173 varW: [ 0.50000286], varB: [ 0.29999846]\n",
      "step: 174 varW: [ 0.50000268], varB: [ 0.29999855]\n",
      "step: 175 varW: [ 0.5000025], varB: [ 0.29999864]\n",
      "step: 176 varW: [ 0.50000232], varB: [ 0.29999873]\n",
      "step: 177 varW: [ 0.50000221], varB: [ 0.29999882]\n",
      "step: 178 varW: [ 0.50000209], varB: [ 0.29999888]\n",
      "step: 179 varW: [ 0.50000197], varB: [ 0.29999894]\n",
      "step: 180 varW: [ 0.50000185], varB: [ 0.299999]\n",
      "step: 181 varW: [ 0.50000173], varB: [ 0.29999906]\n",
      "step: 182 varW: [ 0.50000161], varB: [ 0.29999912]\n",
      "step: 183 varW: [ 0.50000149], varB: [ 0.29999918]\n",
      "step: 184 varW: [ 0.50000143], varB: [ 0.29999924]\n",
      "step: 185 varW: [ 0.50000131], varB: [ 0.29999927]\n",
      "step: 186 varW: [ 0.50000125], varB: [ 0.29999933]\n",
      "step: 187 varW: [ 0.50000119], varB: [ 0.29999936]\n",
      "step: 188 varW: [ 0.50000113], varB: [ 0.29999939]\n",
      "step: 189 varW: [ 0.50000107], varB: [ 0.29999942]\n",
      "step: 190 varW: [ 0.50000101], varB: [ 0.29999945]\n",
      "step: 191 varW: [ 0.50000095], varB: [ 0.29999948]\n",
      "step: 192 varW: [ 0.50000089], varB: [ 0.29999951]\n",
      "step: 193 varW: [ 0.50000083], varB: [ 0.29999954]\n",
      "step: 194 varW: [ 0.50000077], varB: [ 0.29999956]\n",
      "step: 195 varW: [ 0.50000072], varB: [ 0.29999959]\n",
      "step: 196 varW: [ 0.50000066], varB: [ 0.29999962]\n",
      "step: 197 varW: [ 0.5000006], varB: [ 0.29999968]\n",
      "step: 198 varW: [ 0.50000054], varB: [ 0.29999971]\n",
      "step: 199 varW: [ 0.50000048], varB: [ 0.29999974]\n"
     ]
    }
   ],
   "source": [
    "import tensorflow as tf, numpy as np\n",
    "\n",
    "n_epoch = 200\n",
    "learning_rate = 0.5\n",
    "\n",
    "outerX = np.random.random(10000)\n",
    "outerY = 0.5 * outerX + 0.3\n",
    "outerX, outerY\n",
    "\n",
    "model_dir = \"./model/linear\"\n",
    "\n",
    "tf.reset_default_graph()\n",
    "g = tf.Graph()\n",
    "with g.as_default():\n",
    "    with tf.variable_scope(\"inputs\"):\n",
    "        # 接收 outerX data\n",
    "        placeholderX = tf.placeholder(tf.float32, shape=[None], name=\"placeholder_x\")\n",
    "        # 接收 outerY data\n",
    "        placeholderY = tf.placeholder(tf.float32, shape=[None], name=\"placeholder_y\")\n",
    "        \n",
    "    with tf.variable_scope(\"formula\"):\n",
    "        varW = tf.Variable(tf.random_uniform(shape=[1]), tf.float32, name=\"var_w\")\n",
    "        varB = tf.Variable(tf.random_uniform(shape=[1]), tf.float32, name=\"var_b\")\n",
    "        # 公式 0.5X + 0.3, 期望varW會慢慢逼近5, varB會慢慢逼近0.3\n",
    "        varY = varW * placeholderX + varB\n",
    "        # tensorboard weights logs\n",
    "        tf.summary.histogram(\"varW\", varW)\n",
    "        tf.summary.histogram(\"varB\", varB)\n",
    "    # mean square error\n",
    "    loss = tf.losses.mean_squared_error(placeholderY, varY)\n",
    "    # tensorboard weights logs\n",
    "    tf.summary.scalar(\"loss\", loss)\n",
    "    # 使用 GradientDescentOptimizer\n",
    "    optimizer = tf.train.GradientDescentOptimizer(learning_rate=learning_rate)\n",
    "    # 最小化 loss, 此時會 backpropagation 去調整 varW, varB的值\n",
    "    trainer = optimizer.minimize(loss)\n",
    "    merge = tf.summary.merge_all()\n",
    "    \n",
    "    with tf.Session(graph=g) as sess:\n",
    "        w = tf.summary.FileWriter(\"./model/linear\", sess.graph)\n",
    "        init = tf.global_variables_initializer()\n",
    "        sess.run(init)\n",
    "        for i in range(n_epoch):\n",
    "            _, w_, b_ = sess.run([trainer, varW, varB], feed_dict={placeholderX: outerX, placeholderY: outerY})\n",
    "            print('step: {} varW: {}, varB: {}'.format(i, w_, b_) )\n",
    "            if (i + 1) % 20 == 0:\n",
    "                merge_ = sess.run(merge, feed_dict={placeholderX: outerX, placeholderY: outerY})\n",
    "                w.add_summary(merge_, i)"
   ]
  },
  {
   "cell_type": "markdown",
   "metadata": {},
   "source": [
    "## Check Tensorboard"
   ]
  },
  {
   "cell_type": "code",
   "execution_count": 14,
   "metadata": {
    "collapsed": false
   },
   "outputs": [
    {
     "data": {
      "text/html": [
       "\n",
       "          <script src=\"/static/components/requirejs/require.js\"></script>\n",
       "          <script>\n",
       "            requirejs.config({\n",
       "              paths: {\n",
       "                base: '/static/base',\n",
       "              },\n",
       "            });\n",
       "          </script>\n",
       "          "
      ],
      "text/plain": [
       "<IPython.core.display.HTML object>"
      ]
     },
     "metadata": {},
     "output_type": "display_data"
    },
    {
     "data": {
      "text/html": [
       "<p>TensorBoard was started successfully with pid 9595. Click <a href=\"/_proxy/50667/\" target=\"_blank\">here</a> to access it.</p>"
      ]
     },
     "metadata": {},
     "output_type": "display_data"
    },
    {
     "data": {
      "text/html": [
       "<div>\n",
       "<table border=\"1\" class=\"dataframe\">\n",
       "  <thead>\n",
       "    <tr style=\"text-align: right;\">\n",
       "      <th></th>\n",
       "      <th>logdir</th>\n",
       "      <th>pid</th>\n",
       "      <th>port</th>\n",
       "    </tr>\n",
       "  </thead>\n",
       "  <tbody>\n",
       "    <tr>\n",
       "      <th>0</th>\n",
       "      <td>./model/linear</td>\n",
       "      <td>9595</td>\n",
       "      <td>50667</td>\n",
       "    </tr>\n",
       "  </tbody>\n",
       "</table>\n",
       "</div>"
      ],
      "text/plain": [
       "           logdir   pid   port\n",
       "0  ./model/linear  9595  50667"
      ]
     },
     "execution_count": 14,
     "metadata": {},
     "output_type": "execute_result"
    }
   ],
   "source": [
    "from google.datalab.ml import TensorBoard\n",
    "\n",
    "tb = TensorBoard()\n",
    "# stop prev built tensorboard pid\n",
    "for _, r in tb.list().iterrows(): tb.stop(r.pid)\n",
    "\n",
    "tb.start(model_dir)\n",
    "tb.list()"
   ]
  },
  {
   "cell_type": "markdown",
   "metadata": {},
   "source": [
    "## Stop Tensorboard"
   ]
  },
  {
   "cell_type": "code",
   "execution_count": 10,
   "metadata": {
    "collapsed": false
   },
   "outputs": [
    {
     "data": {
      "text/html": [
       "\n",
       "          <script src=\"/static/components/requirejs/require.js\"></script>\n",
       "          <script>\n",
       "            requirejs.config({\n",
       "              paths: {\n",
       "                base: '/static/base',\n",
       "              },\n",
       "            });\n",
       "          </script>\n",
       "          "
      ],
      "text/plain": [
       "<IPython.core.display.HTML object>"
      ]
     },
     "metadata": {},
     "output_type": "display_data"
    }
   ],
   "source": [
    "for _, r in tb.list().iterrows(): tb.stop(r.pid)"
   ]
  },
  {
   "cell_type": "markdown",
   "metadata": {},
   "source": [
    "<br/>\n",
    "<br/>\n",
    "<br/>\n",
    "<br/>\n",
    "<br/>\n",
    "## Model Save and Load"
   ]
  },
  {
   "cell_type": "code",
   "execution_count": 11,
   "metadata": {
    "collapsed": false,
    "scrolled": true
   },
   "outputs": [
    {
     "data": {
      "text/html": [
       "\n",
       "          <script src=\"/static/components/requirejs/require.js\"></script>\n",
       "          <script>\n",
       "            requirejs.config({\n",
       "              paths: {\n",
       "                base: '/static/base',\n",
       "              },\n",
       "            });\n",
       "          </script>\n",
       "          "
      ],
      "text/plain": [
       "<IPython.core.display.HTML object>"
      ]
     },
     "metadata": {},
     "output_type": "display_data"
    }
   ],
   "source": [
    "import tensorflow as tf, numpy as np\n",
    "\n",
    "class LinearModel(object):\n",
    "    def __init__(self):\n",
    "        \"\"\"Init graph\"\"\"\n",
    "        tf.reset_default_graph()\n",
    "        self.graph = tf.Graph()\n",
    "        with self.graph.as_default():\n",
    "            with tf.variable_scope(\"inputs\"):\n",
    "                # 接收 outerX data\n",
    "                self.placeholderX = tf.placeholder(tf.float32, shape=[None], name=\"placeholder_x\")\n",
    "                # 接收 outerY data\n",
    "                self.placeholderY = tf.placeholder(tf.float32, shape=[None], name=\"placeholder_y\")\n",
    "\n",
    "            with tf.variable_scope(\"formula\"):\n",
    "                self.varW = tf.Variable(tf.random_uniform(shape=[1]), tf.float32, name=\"var_w\")\n",
    "                self.varB = tf.Variable(tf.random_uniform(shape=[1]), tf.float32, name=\"var_b\")\n",
    "                self.varY = self.varW * self.placeholderX + self.varB\n",
    "                # tensorboard weights logs\n",
    "                tf.summary.histogram(\"varW\", varW)\n",
    "                tf.summary.histogram(\"varB\", varB)\n",
    "            # 均方誤差\n",
    "            self.loss = tf.losses.mean_squared_error(self.placeholderY, self.varY)\n",
    "            # tensorboard weights logs\n",
    "            tf.summary.scalar(\"loss\", self.loss)\n",
    "            # 使用 AdamOptimizer\n",
    "            self.optimizer = tf.train.AdamOptimizer(learning_rate=learning_rate)\n",
    "            # 最小化 loss, 此時會 backpropagation 去調整 varW, varB的值\n",
    "            self.trainer = self.optimizer.minimize(self.loss)\n",
    "            self.merge = tf.summary.merge_all()\n",
    "            # 儲存物件\n",
    "            self.saver = tf.train.Saver(tf.global_variables())\n",
    "            \n",
    "    def load_weight(self, sess, model_dir):\n",
    "        \"\"\"load latest saved model\"\"\"\n",
    "        latestCkpt = tf.train.latest_checkpoint(model_dir)\n",
    "        if latestCkpt:\n",
    "            self.saver.restore(sess, latestCkpt)\n",
    "            print(\"load weight success!\")\n",
    "        return latestCkpt"
   ]
  },
  {
   "cell_type": "markdown",
   "metadata": {},
   "source": [
    "## Save Model"
   ]
  },
  {
   "cell_type": "code",
   "execution_count": 15,
   "metadata": {
    "collapsed": false,
    "scrolled": true
   },
   "outputs": [
    {
     "data": {
      "text/html": [
       "\n",
       "          <script src=\"/static/components/requirejs/require.js\"></script>\n",
       "          <script>\n",
       "            requirejs.config({\n",
       "              paths: {\n",
       "                base: '/static/base',\n",
       "              },\n",
       "            });\n",
       "          </script>\n",
       "          "
      ],
      "text/plain": [
       "<IPython.core.display.HTML object>"
      ]
     },
     "metadata": {},
     "output_type": "display_data"
    },
    {
     "name": "stdout",
     "output_type": "stream",
     "text": [
      "step: 0 varW: [ 0.30896211], varB: [ 0.14444292]\n",
      "step: 1 varW: [ 0.31894305], varB: [ 0.15442356]\n",
      "step: 2 varW: [ 0.32889062], varB: [ 0.16437024]\n",
      "step: 3 varW: [ 0.33878919], varB: [ 0.17426699]\n",
      "step: 4 varW: [ 0.34862161], varB: [ 0.18409631]\n",
      "step: 5 varW: [ 0.35836929], varB: [ 0.19383913]\n",
      "step: 6 varW: [ 0.36801216], varB: [ 0.20347492]\n",
      "step: 7 varW: [ 0.37752861], varB: [ 0.21298148]\n",
      "step: 8 varW: [ 0.38689551], varB: [ 0.22233503]\n",
      "step: 9 varW: [ 0.39608836], varB: [ 0.2315103]\n",
      "step: 10 varW: [ 0.40508127], varB: [ 0.24048059]\n",
      "step: 11 varW: [ 0.41384718], varB: [ 0.24921794]\n",
      "step: 12 varW: [ 0.42235813], varB: [ 0.25769341]\n",
      "step: 13 varW: [ 0.43058544], varB: [ 0.26587737]\n",
      "step: 14 varW: [ 0.43850026], varB: [ 0.27373984]\n",
      "step: 15 varW: [ 0.44607386], varB: [ 0.28125104]\n",
      "step: 16 varW: [ 0.45327824], varB: [ 0.28838193]\n",
      "step: 17 varW: [ 0.4600867], varB: [ 0.29510477]\n",
      "step: 18 varW: [ 0.46647441], varB: [ 0.30139384]\n",
      "step: 19 varW: [ 0.47241905], varB: [ 0.307226]\n",
      "step: 20 varW: [ 0.47790143], varB: [ 0.31258142]\n",
      "step: 21 varW: [ 0.48290601], varB: [ 0.31744406]\n",
      "step: 22 varW: [ 0.48742142], varB: [ 0.32180229]\n",
      "step: 23 varW: [ 0.49144071], varB: [ 0.32564911]\n",
      "step: 24 varW: [ 0.49496171], varB: [ 0.3289825]\n",
      "step: 25 varW: [ 0.49798706], varB: [ 0.33180541]\n",
      "step: 26 varW: [ 0.5005241], varB: [ 0.33412579]\n",
      "step: 27 varW: [ 0.50258487], varB: [ 0.33595631]\n",
      "step: 28 varW: [ 0.50418568], varB: [ 0.33731407]\n",
      "step: 29 varW: [ 0.50534672], varB: [ 0.33822024]\n",
      "step: 30 varW: [ 0.50609177], varB: [ 0.33869955]\n",
      "step: 31 varW: [ 0.50644767], varB: [ 0.33877978]\n",
      "step: 32 varW: [ 0.50644368], varB: [ 0.33849126]\n",
      "step: 33 varW: [ 0.50611115], varB: [ 0.33786634]\n",
      "step: 34 varW: [ 0.50548297], varB: [ 0.33693883]\n",
      "step: 35 varW: [ 0.50459313], varB: [ 0.33574361]\n",
      "step: 36 varW: [ 0.5034762], varB: [ 0.33431607]\n",
      "step: 37 varW: [ 0.50216687], varB: [ 0.33269182]\n",
      "step: 38 varW: [ 0.5006997], varB: [ 0.33090612]\n",
      "step: 39 varW: [ 0.49910873], varB: [ 0.32899368]\n",
      "step: 40 varW: [ 0.49742702], varB: [ 0.32698822]\n",
      "step: 41 varW: [ 0.49568647], varB: [ 0.32492223]\n",
      "step: 42 varW: [ 0.49391747], varB: [ 0.32282668]\n",
      "step: 43 varW: [ 0.49214861], varB: [ 0.32073069]\n",
      "step: 44 varW: [ 0.49040654], varB: [ 0.31866133]\n",
      "step: 45 varW: [ 0.48871571], varB: [ 0.31664351]\n",
      "step: 46 varW: [ 0.48709819], varB: [ 0.31469968]\n",
      "step: 47 varW: [ 0.4855735], varB: [ 0.31284976]\n",
      "step: 48 varW: [ 0.48415855], varB: [ 0.31111097]\n",
      "step: 49 varW: [ 0.48286754], varB: [ 0.30949783]\n",
      "step: 50 varW: [ 0.48171192], varB: [ 0.30802202]\n",
      "step: 51 varW: [ 0.4807004], varB: [ 0.30669251]\n",
      "step: 52 varW: [ 0.47983897], varB: [ 0.30551547]\n",
      "step: 53 varW: [ 0.47913101], varB: [ 0.30449444]\n",
      "step: 54 varW: [ 0.47857741], varB: [ 0.30363044]\n",
      "step: 55 varW: [ 0.47817665], varB: [ 0.30292204]\n",
      "step: 56 varW: [ 0.47792509], varB: [ 0.30236557]\n",
      "step: 57 varW: [ 0.477817], varB: [ 0.3019554]\n",
      "step: 58 varW: [ 0.47784492], varB: [ 0.30168402]\n",
      "step: 59 varW: [ 0.47799984], varB: [ 0.30154237]\n",
      "step: 60 varW: [ 0.47827145], varB: [ 0.30152008]\n",
      "step: 61 varW: [ 0.47864839], varB: [ 0.3016057]\n",
      "step: 62 varW: [ 0.47911847], varB: [ 0.30178693]\n",
      "step: 63 varW: [ 0.47966897], varB: [ 0.30205089]\n",
      "step: 64 varW: [ 0.48028684], varB: [ 0.30238441]\n",
      "step: 65 varW: [ 0.48095891], varB: [ 0.30277419]\n",
      "step: 66 varW: [ 0.48167217], varB: [ 0.30320707]\n",
      "step: 67 varW: [ 0.48241395], varB: [ 0.3036702]\n",
      "step: 68 varW: [ 0.48317203], varB: [ 0.30415127]\n",
      "step: 69 varW: [ 0.48393494], varB: [ 0.30463862]\n",
      "step: 70 varW: [ 0.48469195], varB: [ 0.30512145]\n",
      "step: 71 varW: [ 0.48543331], varB: [ 0.30558988]\n",
      "step: 72 varW: [ 0.48615029], varB: [ 0.3060351]\n",
      "step: 73 varW: [ 0.4868353], varB: [ 0.30644938]\n",
      "step: 74 varW: [ 0.48748183], varB: [ 0.30682623]\n",
      "step: 75 varW: [ 0.48808461], varB: [ 0.30716029]\n",
      "step: 76 varW: [ 0.48863953], varB: [ 0.30744746]\n",
      "step: 77 varW: [ 0.48914367], varB: [ 0.30768481]\n",
      "step: 78 varW: [ 0.48959526], varB: [ 0.30787057]\n",
      "step: 79 varW: [ 0.48999357], varB: [ 0.30800405]\n",
      "step: 80 varW: [ 0.49033892], varB: [ 0.30808562]\n",
      "step: 81 varW: [ 0.49063256], varB: [ 0.30811659]\n",
      "step: 82 varW: [ 0.49087659], varB: [ 0.30809912]\n",
      "step: 83 varW: [ 0.49107379], varB: [ 0.30803609]\n",
      "step: 84 varW: [ 0.49122763], varB: [ 0.30793107]\n",
      "step: 85 varW: [ 0.4913421], varB: [ 0.3077881]\n",
      "step: 86 varW: [ 0.49142152], varB: [ 0.30761167]\n",
      "step: 87 varW: [ 0.49147058], varB: [ 0.30740651]\n",
      "step: 88 varW: [ 0.49149409], varB: [ 0.3071776]\n",
      "step: 89 varW: [ 0.49149695], varB: [ 0.30692992]\n",
      "step: 90 varW: [ 0.49148402], varB: [ 0.3066684]\n",
      "step: 91 varW: [ 0.49146006], varB: [ 0.30639791]\n",
      "step: 92 varW: [ 0.49142957], varB: [ 0.30612311]\n",
      "step: 93 varW: [ 0.49139681], varB: [ 0.3058483]\n",
      "step: 94 varW: [ 0.4913657], varB: [ 0.30557749]\n",
      "step: 95 varW: [ 0.49133977], varB: [ 0.30531427]\n",
      "step: 96 varW: [ 0.49132207], varB: [ 0.30506179]\n",
      "step: 97 varW: [ 0.49131525], varB: [ 0.30482271]\n",
      "step: 98 varW: [ 0.49132141], varB: [ 0.30459923]\n",
      "step: 99 varW: [ 0.49134222], varB: [ 0.30439302]\n",
      "step: 100 varW: [ 0.49137887], varB: [ 0.30420533]\n",
      "step: 101 varW: [ 0.49143204], varB: [ 0.30403686]\n",
      "step: 102 varW: [ 0.49150202], varB: [ 0.3038879]\n",
      "step: 103 varW: [ 0.49158865], varB: [ 0.30375829]\n",
      "step: 104 varW: [ 0.49169141], varB: [ 0.30364755]\n",
      "step: 105 varW: [ 0.49180946], varB: [ 0.30355477]\n",
      "step: 106 varW: [ 0.49194163], varB: [ 0.30347881]\n",
      "step: 107 varW: [ 0.49208653], varB: [ 0.30341822]\n",
      "step: 108 varW: [ 0.49224257], varB: [ 0.30337143]\n",
      "step: 109 varW: [ 0.49240804], varB: [ 0.30333668]\n",
      "step: 110 varW: [ 0.4925811], varB: [ 0.30331212]\n",
      "step: 111 varW: [ 0.49275988], varB: [ 0.30329585]\n",
      "step: 112 varW: [ 0.49294254], varB: [ 0.30328599]\n",
      "step: 113 varW: [ 0.49312726], varB: [ 0.30328065]\n",
      "step: 114 varW: [ 0.49331227], varB: [ 0.30327809]\n",
      "step: 115 varW: [ 0.49349597], varB: [ 0.30327663]\n",
      "step: 116 varW: [ 0.49367684], varB: [ 0.30327475]\n",
      "step: 117 varW: [ 0.49385354], varB: [ 0.30327109]\n",
      "step: 118 varW: [ 0.49402493], varB: [ 0.30326447]\n",
      "step: 119 varW: [ 0.49419004], varB: [ 0.30325389]\n",
      "step: 120 varW: [ 0.49434808], varB: [ 0.30323854]\n",
      "step: 121 varW: [ 0.49449846], varB: [ 0.30321786]\n",
      "step: 122 varW: [ 0.49464083], varB: [ 0.30319142]\n",
      "step: 123 varW: [ 0.494775], varB: [ 0.30315906]\n",
      "step: 124 varW: [ 0.49490091], varB: [ 0.3031207]\n",
      "step: 125 varW: [ 0.49501875], varB: [ 0.30307651]\n",
      "step: 126 varW: [ 0.49512878], varB: [ 0.30302677]\n",
      "step: 127 varW: [ 0.49523145], varB: [ 0.30297187]\n",
      "step: 128 varW: [ 0.49532726], varB: [ 0.30291232]\n",
      "step: 129 varW: [ 0.49541682], varB: [ 0.30284876]\n",
      "step: 130 varW: [ 0.49550077], varB: [ 0.30278185]\n",
      "step: 131 varW: [ 0.49557987], varB: [ 0.30271229]\n",
      "step: 132 varW: [ 0.49565482], varB: [ 0.3026408]\n",
      "step: 133 varW: [ 0.49572638], varB: [ 0.30256814]\n",
      "step: 134 varW: [ 0.49579525], varB: [ 0.302495]\n",
      "step: 135 varW: [ 0.49586213], varB: [ 0.30242208]\n",
      "step: 136 varW: [ 0.49592763], varB: [ 0.30234998]\n",
      "step: 137 varW: [ 0.49599239], varB: [ 0.30227932]\n",
      "step: 138 varW: [ 0.49605688], varB: [ 0.3022106]\n",
      "step: 139 varW: [ 0.49612156], varB: [ 0.30214423]\n",
      "step: 140 varW: [ 0.49618679], varB: [ 0.30208057]\n",
      "step: 141 varW: [ 0.49625286], varB: [ 0.30201989]\n",
      "step: 142 varW: [ 0.49631998], varB: [ 0.30196241]\n",
      "step: 143 varW: [ 0.49638826], varB: [ 0.3019082]\n",
      "step: 144 varW: [ 0.49645776], varB: [ 0.30185732]\n",
      "step: 145 varW: [ 0.49652845], varB: [ 0.30180973]\n",
      "step: 146 varW: [ 0.49660027], varB: [ 0.30176529]\n",
      "step: 147 varW: [ 0.49667308], varB: [ 0.3017239]\n",
      "step: 148 varW: [ 0.49674669], varB: [ 0.3016853]\n",
      "step: 149 varW: [ 0.49682087], varB: [ 0.3016493]\n",
      "step: 150 varW: [ 0.4968954], varB: [ 0.3016156]\n",
      "step: 151 varW: [ 0.49697], varB: [ 0.30158392]\n",
      "step: 152 varW: [ 0.49704441], varB: [ 0.30155393]\n",
      "step: 153 varW: [ 0.49711835], varB: [ 0.30152538]\n",
      "step: 154 varW: [ 0.49719155], varB: [ 0.30149797]\n",
      "step: 155 varW: [ 0.49726373], varB: [ 0.30147138]\n",
      "step: 156 varW: [ 0.49733469], varB: [ 0.30144536]\n",
      "step: 157 varW: [ 0.49740419], varB: [ 0.30141971]\n",
      "step: 158 varW: [ 0.49747208], varB: [ 0.30139419]\n",
      "step: 159 varW: [ 0.49753818], varB: [ 0.30136862]\n",
      "step: 160 varW: [ 0.49760237], varB: [ 0.30134287]\n",
      "step: 161 varW: [ 0.49766457], varB: [ 0.30131686]\n",
      "step: 162 varW: [ 0.49772474], varB: [ 0.30129045]\n",
      "step: 163 varW: [ 0.49778286], varB: [ 0.30126366]\n",
      "step: 164 varW: [ 0.49783891], varB: [ 0.30123645]\n",
      "step: 165 varW: [ 0.49789298], varB: [ 0.30120882]\n",
      "step: 166 varW: [ 0.4979451], varB: [ 0.30118084]\n",
      "step: 167 varW: [ 0.49799535], varB: [ 0.30115256]\n",
      "step: 168 varW: [ 0.49804384], varB: [ 0.30112407]\n",
      "step: 169 varW: [ 0.49809068], varB: [ 0.30109546]\n",
      "step: 170 varW: [ 0.49813601], varB: [ 0.30106685]\n",
      "step: 171 varW: [ 0.49817994], varB: [ 0.30103832]\n",
      "step: 172 varW: [ 0.49822262], varB: [ 0.30101001]\n",
      "step: 173 varW: [ 0.49826416], varB: [ 0.30098203]\n",
      "step: 174 varW: [ 0.49830469], varB: [ 0.30095446]\n",
      "step: 175 varW: [ 0.49834433], varB: [ 0.30092743]\n",
      "step: 176 varW: [ 0.49838319], varB: [ 0.300901]\n",
      "step: 177 varW: [ 0.49842137], varB: [ 0.30087525]\n",
      "step: 178 varW: [ 0.49845895], varB: [ 0.30085024]\n",
      "step: 179 varW: [ 0.49849597], varB: [ 0.30082604]\n",
      "step: 180 varW: [ 0.4985325], varB: [ 0.30080265]\n",
      "step: 181 varW: [ 0.49856859], varB: [ 0.30078012]\n",
      "step: 182 varW: [ 0.49860427], varB: [ 0.30075842]\n",
      "step: 183 varW: [ 0.49863952], varB: [ 0.30073756]\n",
      "step: 184 varW: [ 0.49867439], varB: [ 0.30071753]\n",
      "step: 185 varW: [ 0.49870884], varB: [ 0.30069831]\n",
      "step: 186 varW: [ 0.49874285], varB: [ 0.30067983]\n",
      "step: 187 varW: [ 0.49877638], varB: [ 0.30066207]\n",
      "step: 188 varW: [ 0.49880943], varB: [ 0.30064496]\n",
      "step: 189 varW: [ 0.49884194], varB: [ 0.30062845]\n",
      "step: 190 varW: [ 0.49887392], varB: [ 0.30061251]\n",
      "step: 191 varW: [ 0.4989053], varB: [ 0.30059704]\n",
      "step: 192 varW: [ 0.49893603], varB: [ 0.30058202]\n",
      "step: 193 varW: [ 0.4989661], varB: [ 0.30056739]\n",
      "step: 194 varW: [ 0.49899548], varB: [ 0.30055311]\n",
      "step: 195 varW: [ 0.49902415], varB: [ 0.30053911]\n",
      "step: 196 varW: [ 0.49905208], varB: [ 0.30052537]\n",
      "step: 197 varW: [ 0.49907926], varB: [ 0.30051187]\n",
      "step: 198 varW: [ 0.49910569], varB: [ 0.30049855]\n",
      "step: 199 varW: [ 0.49913135], varB: [ 0.30048543]\n"
     ]
    }
   ],
   "source": [
    "n_epoch = 200\n",
    "learning_rate = 0.01\n",
    "\n",
    "outerX = np.random.random(10000)\n",
    "outerY = 0.5 * outerX + 0.3\n",
    "outerX, outerY\n",
    "\n",
    "model_dir = \"./model/linear\"\n",
    "\n",
    "model = LinearModel()\n",
    "with tf.Session(graph=model.graph) as sess:\n",
    "    w = tf.summary.FileWriter(model_dir, sess.graph)\n",
    "    init = tf.global_variables_initializer()\n",
    "    sess.run(init)\n",
    "    for i in range(n_epoch):\n",
    "        _, w_, b_ = sess.run([model.trainer, model.varW, model.varB], feed_dict={model.placeholderX: outerX, model.placeholderY: outerY})\n",
    "        print('step: {} varW: {}, varB: {}'.format(i, w_, b_) )\n",
    "        if (i + 1) % 50 == 0:\n",
    "            merge_ = sess.run(model.merge, feed_dict={model.placeholderX: outerX, model.placeholderY: outerY})\n",
    "            w.add_summary(merge_, i)\n",
    "            \n",
    "        if (i + 1) % 50 == 0:\n",
    "            ''' Save model '''\n",
    "            model.saver.save(sess, save_path=model_dir + \"/linear_model\", global_step=i)"
   ]
  },
  {
   "cell_type": "markdown",
   "metadata": {},
   "source": [
    "## Load Model"
   ]
  },
  {
   "cell_type": "code",
   "execution_count": 20,
   "metadata": {
    "collapsed": false
   },
   "outputs": [
    {
     "data": {
      "text/html": [
       "\n",
       "          <script src=\"/static/components/requirejs/require.js\"></script>\n",
       "          <script>\n",
       "            requirejs.config({\n",
       "              paths: {\n",
       "                base: '/static/base',\n",
       "              },\n",
       "            });\n",
       "          </script>\n",
       "          "
      ],
      "text/plain": [
       "<IPython.core.display.HTML object>"
      ]
     },
     "metadata": {},
     "output_type": "display_data"
    },
    {
     "name": "stdout",
     "output_type": "stream",
     "text": [
      "INFO:tensorflow:Restoring parameters from ./model/linear/linear_model-199\n",
      "load weight success!\n"
     ]
    },
    {
     "data": {
      "image/png": "[encoded data removed]",
      "text/plain": [
       "<matplotlib.figure.Figure at 0x7f08cdae0e10>"
      ]
     },
     "metadata": {},
     "output_type": "display_data"
    }
   ],
   "source": [
    "import matplotlib.pyplot as plt\n",
    "plt.style.use('ggplot')\n",
    "\n",
    "model_dir = \"./model/linear\"\n",
    "data_x = np.random.random(100)\n",
    "\n",
    "model = LinearModel()\n",
    "with tf.Session(graph=model.graph) as sess:\n",
    "    sess.run(tf.global_variables_initializer())\n",
    "    ''' load pre-trained weight into model '''\n",
    "    model.load_weight(sess, model_dir)\n",
    "    ''' ################################## '''\n",
    "    \n",
    "    y = sess.run(model.varY, feed_dict={model.placeholderX: data_x})\n",
    "    \n",
    "    ans_y = lambda x: 0.5 * x + 0.3\n",
    "    plt.scatter(data_x, y, label=\"predict\", color=\"b\", linewidth=5, alpha=0.5)\n",
    "    plt.scatter(data_x, ans_y(data_x), label=\"predict\", c=\"g\")\n",
    "    plt.legend(loc=\"best\")\n",
    "    plt.show()"
   ]
  },
  {
   "cell_type": "markdown",
   "metadata": {},
   "source": [
    "## Observations\n",
    "1. 上圖可知, 預測的答案跟實際答案是重疊的, 代表Model load success"
   ]
  }
 ],
 "metadata": {
  "kernelspec": {
   "display_name": "Python 3",
   "language": "python",
   "name": "python3"
  },
  "language_info": {
   "codemirror_mode": {
    "name": "ipython",
    "version": 3
   },
   "file_extension": ".py",
   "mimetype": "text/x-python",
   "name": "python",
   "nbconvert_exporter": "python",
   "pygments_lexer": "ipython3",
   "version": "3.5.2"
  }
 },
 "nbformat": 4,
 "nbformat_minor": 2
}
